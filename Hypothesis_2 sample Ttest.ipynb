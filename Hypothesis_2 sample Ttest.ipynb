{
 "cells": [
  {
   "cell_type": "code",
   "execution_count": 1,
   "metadata": {},
   "outputs": [
    {
     "data": {
      "text/html": [
       "<div>\n",
       "<style scoped>\n",
       "    .dataframe tbody tr th:only-of-type {\n",
       "        vertical-align: middle;\n",
       "    }\n",
       "\n",
       "    .dataframe tbody tr th {\n",
       "        vertical-align: top;\n",
       "    }\n",
       "\n",
       "    .dataframe thead th {\n",
       "        text-align: right;\n",
       "    }\n",
       "</style>\n",
       "<table border=\"1\" class=\"dataframe\">\n",
       "  <thead>\n",
       "    <tr style=\"text-align: right;\">\n",
       "      <th></th>\n",
       "      <th>Interest Rate Waiver ($ spent)</th>\n",
       "      <th>Standard Promotion ($ spent)</th>\n",
       "    </tr>\n",
       "  </thead>\n",
       "  <tbody>\n",
       "    <tr>\n",
       "      <th>0</th>\n",
       "      <td>1989.10</td>\n",
       "      <td>1272.25</td>\n",
       "    </tr>\n",
       "    <tr>\n",
       "      <th>1</th>\n",
       "      <td>1808.38</td>\n",
       "      <td>1250.38</td>\n",
       "    </tr>\n",
       "    <tr>\n",
       "      <th>2</th>\n",
       "      <td>1153.75</td>\n",
       "      <td>1474.78</td>\n",
       "    </tr>\n",
       "    <tr>\n",
       "      <th>3</th>\n",
       "      <td>1745.64</td>\n",
       "      <td>2064.89</td>\n",
       "    </tr>\n",
       "    <tr>\n",
       "      <th>4</th>\n",
       "      <td>1008.24</td>\n",
       "      <td>2030.87</td>\n",
       "    </tr>\n",
       "    <tr>\n",
       "      <th>...</th>\n",
       "      <td>...</td>\n",
       "      <td>...</td>\n",
       "    </tr>\n",
       "    <tr>\n",
       "      <th>245</th>\n",
       "      <td>1730.41</td>\n",
       "      <td>2047.49</td>\n",
       "    </tr>\n",
       "    <tr>\n",
       "      <th>246</th>\n",
       "      <td>947.66</td>\n",
       "      <td>1685.44</td>\n",
       "    </tr>\n",
       "    <tr>\n",
       "      <th>247</th>\n",
       "      <td>1516.43</td>\n",
       "      <td>1840.55</td>\n",
       "    </tr>\n",
       "    <tr>\n",
       "      <th>248</th>\n",
       "      <td>1609.69</td>\n",
       "      <td>1603.48</td>\n",
       "    </tr>\n",
       "    <tr>\n",
       "      <th>249</th>\n",
       "      <td>918.35</td>\n",
       "      <td>1475.98</td>\n",
       "    </tr>\n",
       "  </tbody>\n",
       "</table>\n",
       "<p>250 rows × 2 columns</p>\n",
       "</div>"
      ],
      "text/plain": [
       "     Interest Rate Waiver ($ spent)  Standard Promotion ($ spent)\n",
       "0                           1989.10                       1272.25\n",
       "1                           1808.38                       1250.38\n",
       "2                           1153.75                       1474.78\n",
       "3                           1745.64                       2064.89\n",
       "4                           1008.24                       2030.87\n",
       "..                              ...                           ...\n",
       "245                         1730.41                       2047.49\n",
       "246                          947.66                       1685.44\n",
       "247                         1516.43                       1840.55\n",
       "248                         1609.69                       1603.48\n",
       "249                          918.35                       1475.98\n",
       "\n",
       "[250 rows x 2 columns]"
      ]
     },
     "execution_count": 1,
     "metadata": {},
     "output_type": "execute_result"
    }
   ],
   "source": [
    "import pandas as pd\n",
    "import scipy \n",
    "from scipy import stats\n",
    "\n",
    "############ 2 sample T Test ##################\n",
    "\n",
    "# Load the data\n",
    "prom = pd.read_excel(\"D:\\\\upendra\\\\Data Science Training\\\\hypothesis testing\\\\Promotion.xlsx\")\n",
    "prom\n",
    "\n"
   ]
  },
  {
   "cell_type": "code",
   "execution_count": 3,
   "metadata": {},
   "outputs": [],
   "source": [
    "prom.columns = \"InterestRateWaiver\", \"StandardPromotion\"\n",
    "\n",
    "\n",
    "\n",
    "\n"
   ]
  },
  {
   "cell_type": "code",
   "execution_count": 4,
   "metadata": {},
   "outputs": [
    {
     "data": {
      "text/html": [
       "<div>\n",
       "<style scoped>\n",
       "    .dataframe tbody tr th:only-of-type {\n",
       "        vertical-align: middle;\n",
       "    }\n",
       "\n",
       "    .dataframe tbody tr th {\n",
       "        vertical-align: top;\n",
       "    }\n",
       "\n",
       "    .dataframe thead th {\n",
       "        text-align: right;\n",
       "    }\n",
       "</style>\n",
       "<table border=\"1\" class=\"dataframe\">\n",
       "  <thead>\n",
       "    <tr style=\"text-align: right;\">\n",
       "      <th></th>\n",
       "      <th>InterestRateWaiver</th>\n",
       "      <th>StandardPromotion</th>\n",
       "    </tr>\n",
       "  </thead>\n",
       "  <tbody>\n",
       "    <tr>\n",
       "      <th>0</th>\n",
       "      <td>1989.10</td>\n",
       "      <td>1272.25</td>\n",
       "    </tr>\n",
       "    <tr>\n",
       "      <th>1</th>\n",
       "      <td>1808.38</td>\n",
       "      <td>1250.38</td>\n",
       "    </tr>\n",
       "    <tr>\n",
       "      <th>2</th>\n",
       "      <td>1153.75</td>\n",
       "      <td>1474.78</td>\n",
       "    </tr>\n",
       "    <tr>\n",
       "      <th>3</th>\n",
       "      <td>1745.64</td>\n",
       "      <td>2064.89</td>\n",
       "    </tr>\n",
       "    <tr>\n",
       "      <th>4</th>\n",
       "      <td>1008.24</td>\n",
       "      <td>2030.87</td>\n",
       "    </tr>\n",
       "    <tr>\n",
       "      <th>...</th>\n",
       "      <td>...</td>\n",
       "      <td>...</td>\n",
       "    </tr>\n",
       "    <tr>\n",
       "      <th>245</th>\n",
       "      <td>1730.41</td>\n",
       "      <td>2047.49</td>\n",
       "    </tr>\n",
       "    <tr>\n",
       "      <th>246</th>\n",
       "      <td>947.66</td>\n",
       "      <td>1685.44</td>\n",
       "    </tr>\n",
       "    <tr>\n",
       "      <th>247</th>\n",
       "      <td>1516.43</td>\n",
       "      <td>1840.55</td>\n",
       "    </tr>\n",
       "    <tr>\n",
       "      <th>248</th>\n",
       "      <td>1609.69</td>\n",
       "      <td>1603.48</td>\n",
       "    </tr>\n",
       "    <tr>\n",
       "      <th>249</th>\n",
       "      <td>918.35</td>\n",
       "      <td>1475.98</td>\n",
       "    </tr>\n",
       "  </tbody>\n",
       "</table>\n",
       "<p>250 rows × 2 columns</p>\n",
       "</div>"
      ],
      "text/plain": [
       "     InterestRateWaiver  StandardPromotion\n",
       "0               1989.10            1272.25\n",
       "1               1808.38            1250.38\n",
       "2               1153.75            1474.78\n",
       "3               1745.64            2064.89\n",
       "4               1008.24            2030.87\n",
       "..                  ...                ...\n",
       "245             1730.41            2047.49\n",
       "246              947.66            1685.44\n",
       "247             1516.43            1840.55\n",
       "248             1609.69            1603.48\n",
       "249              918.35            1475.98\n",
       "\n",
       "[250 rows x 2 columns]"
      ]
     },
     "execution_count": 4,
     "metadata": {},
     "output_type": "execute_result"
    }
   ],
   "source": [
    "prom"
   ]
  },
  {
   "cell_type": "code",
   "execution_count": 5,
   "metadata": {},
   "outputs": [
    {
     "data": {
      "text/plain": [
       "ShapiroResult(statistic=0.9923660159111023, pvalue=0.22453102469444275)"
      ]
     },
     "execution_count": 5,
     "metadata": {},
     "output_type": "execute_result"
    }
   ],
   "source": [
    "# Normality Test\n",
    "# Ho: y1 and y2 are normal\n",
    "# Ha= y1 and y2 are not normaL\n",
    "stats.shapiro(prom.InterestRateWaiver) # Shapiro Test\n",
    "\n",
    "# since p-value >.05 so Null hypothesis will be considered Hence normal"
   ]
  },
  {
   "cell_type": "code",
   "execution_count": 7,
   "metadata": {},
   "outputs": [
    {
     "data": {
      "text/plain": [
       "ShapiroResult(statistic=0.9919784665107727, pvalue=0.19155508279800415)"
      ]
     },
     "execution_count": 7,
     "metadata": {},
     "output_type": "execute_result"
    }
   ],
   "source": [
    "stats.shapiro(prom.StandardPromotion)\n",
    "# since p-value >.05 so Null hypothesis will be considered Hence normal"
   ]
  },
  {
   "cell_type": "code",
   "execution_count": 9,
   "metadata": {},
   "outputs": [
    {
     "data": {
      "text/plain": [
       "LeveneResult(statistic=1.1334674473666406, pvalue=0.2875528565130808)"
      ]
     },
     "execution_count": 9,
     "metadata": {},
     "output_type": "execute_result"
    }
   ],
   "source": [
    "# Variance test\n",
    "#HO: Variance are equal  #Ha:variances are not equal\n",
    "scipy.stats.levene(prom.InterestRateWaiver, prom.StandardPromotion)\n",
    "\n"
   ]
  },
  {
   "cell_type": "code",
   "execution_count": 10,
   "metadata": {},
   "outputs": [
    {
     "data": {
      "text/plain": [
       "Ttest_indResult(statistic=2.260425163136941, pvalue=0.02422584468584312)"
      ]
     },
     "execution_count": 10,
     "metadata": {},
     "output_type": "execute_result"
    }
   ],
   "source": [
    "# p-value = 0.287 > 0.05 so p high null fly => Equal variances\n",
    "#H0:Ad promotion will not increase the purchases\n",
    "#Ha: Ad promotion will  increase the purchases Hence go for promotion\n",
    "# 2 Sample T test\n",
    "scipy.stats.ttest_ind(prom.InterestRateWaiver, prom.StandardPromotion)\n",
    "\n",
    "#since .02<.05 means alternate hypothesis will be considered HEnce ad promotion increased the purchases"
   ]
  },
  {
   "cell_type": "code",
   "execution_count": null,
   "metadata": {},
   "outputs": [],
   "source": []
  }
 ],
 "metadata": {
  "kernelspec": {
   "display_name": "Python 3",
   "language": "python",
   "name": "python3"
  },
  "language_info": {
   "codemirror_mode": {
    "name": "ipython",
    "version": 3
   },
   "file_extension": ".py",
   "mimetype": "text/x-python",
   "name": "python",
   "nbconvert_exporter": "python",
   "pygments_lexer": "ipython3",
   "version": "3.8.3"
  }
 },
 "nbformat": 4,
 "nbformat_minor": 4
}
