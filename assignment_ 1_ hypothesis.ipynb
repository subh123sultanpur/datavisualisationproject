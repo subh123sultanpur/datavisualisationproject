{
 "cells": [
  {
   "cell_type": "code",
   "execution_count": 26,
   "id": "0a8771db",
   "metadata": {
    "ExecuteTime": {
     "end_time": "2022-11-03T10:49:44.165830Z",
     "start_time": "2022-11-03T10:49:44.149038Z"
    }
   },
   "outputs": [],
   "source": [
    "import pandas as pd\n",
    "import numpy as np\n",
    "import scipy\n",
    "from scipy import stats\n",
    "from scipy.stats import norm\n"
   ]
  },
  {
   "cell_type": "code",
   "execution_count": 14,
   "id": "c0cac23a",
   "metadata": {
    "ExecuteTime": {
     "end_time": "2022-11-03T10:32:25.137928Z",
     "start_time": "2022-11-03T10:32:25.113095Z"
    }
   },
   "outputs": [
    {
     "data": {
      "text/html": [
       "<div>\n",
       "<style scoped>\n",
       "    .dataframe tbody tr th:only-of-type {\n",
       "        vertical-align: middle;\n",
       "    }\n",
       "\n",
       "    .dataframe tbody tr th {\n",
       "        vertical-align: top;\n",
       "    }\n",
       "\n",
       "    .dataframe thead th {\n",
       "        text-align: right;\n",
       "    }\n",
       "</style>\n",
       "<table border=\"1\" class=\"dataframe\">\n",
       "  <thead>\n",
       "    <tr style=\"text-align: right;\">\n",
       "      <th></th>\n",
       "      <th>Unit A</th>\n",
       "      <th>Unit B</th>\n",
       "    </tr>\n",
       "  </thead>\n",
       "  <tbody>\n",
       "    <tr>\n",
       "      <th>0</th>\n",
       "      <td>6.8090</td>\n",
       "      <td>6.7703</td>\n",
       "    </tr>\n",
       "    <tr>\n",
       "      <th>1</th>\n",
       "      <td>6.4376</td>\n",
       "      <td>7.5093</td>\n",
       "    </tr>\n",
       "    <tr>\n",
       "      <th>2</th>\n",
       "      <td>6.9157</td>\n",
       "      <td>6.7300</td>\n",
       "    </tr>\n",
       "    <tr>\n",
       "      <th>3</th>\n",
       "      <td>7.3012</td>\n",
       "      <td>6.7878</td>\n",
       "    </tr>\n",
       "    <tr>\n",
       "      <th>4</th>\n",
       "      <td>7.4488</td>\n",
       "      <td>7.1522</td>\n",
       "    </tr>\n",
       "  </tbody>\n",
       "</table>\n",
       "</div>"
      ],
      "text/plain": [
       "   Unit A  Unit B\n",
       "0  6.8090  6.7703\n",
       "1  6.4376  7.5093\n",
       "2  6.9157  6.7300\n",
       "3  7.3012  6.7878\n",
       "4  7.4488  7.1522"
      ]
     },
     "execution_count": 14,
     "metadata": {},
     "output_type": "execute_result"
    }
   ],
   "source": [
    "# Load the dataset\n",
    "df=pd.read_csv('Cutlets.csv')\n",
    "df.head()"
   ]
  },
  {
   "cell_type": "code",
   "execution_count": 3,
   "id": "061f13e1",
   "metadata": {
    "ExecuteTime": {
     "end_time": "2022-11-03T10:15:21.517207Z",
     "start_time": "2022-11-03T10:15:21.504333Z"
    }
   },
   "outputs": [
    {
     "data": {
      "text/plain": [
       "0     6.8090\n",
       "1     6.4376\n",
       "2     6.9157\n",
       "3     7.3012\n",
       "4     7.4488\n",
       "5     7.3871\n",
       "6     6.8755\n",
       "7     7.0621\n",
       "8     6.6840\n",
       "9     6.8236\n",
       "10    7.3930\n",
       "11    7.5169\n",
       "12    6.9246\n",
       "13    6.9256\n",
       "14    6.5797\n",
       "15    6.8394\n",
       "16    6.5970\n",
       "17    7.2705\n",
       "18    7.2828\n",
       "19    7.3495\n",
       "20    6.9438\n",
       "21    7.1560\n",
       "22    6.5341\n",
       "23    7.2854\n",
       "24    6.9952\n",
       "25    6.8568\n",
       "26    7.2163\n",
       "27    6.6801\n",
       "28    6.9431\n",
       "29    7.0852\n",
       "30    6.7794\n",
       "31    7.2783\n",
       "32    7.1561\n",
       "33    7.3943\n",
       "34    6.9405\n",
       "35       NaN\n",
       "36       NaN\n",
       "37       NaN\n",
       "38       NaN\n",
       "39       NaN\n",
       "40       NaN\n",
       "41       NaN\n",
       "42       NaN\n",
       "43       NaN\n",
       "44       NaN\n",
       "45       NaN\n",
       "46       NaN\n",
       "47       NaN\n",
       "48       NaN\n",
       "49       NaN\n",
       "50       NaN\n",
       "Name: Unit A, dtype: float64"
      ]
     },
     "execution_count": 3,
     "metadata": {},
     "output_type": "execute_result"
    }
   ],
   "source": [
    "unitA=pd.Series(data.iloc[:,0])\n",
    "unitA"
   ]
  },
  {
   "cell_type": "code",
   "execution_count": 22,
   "id": "08d60848",
   "metadata": {
    "ExecuteTime": {
     "end_time": "2022-11-03T10:45:34.754546Z",
     "start_time": "2022-11-03T10:45:34.738402Z"
    }
   },
   "outputs": [
    {
     "data": {
      "text/plain": [
       "Index(['UnitA', 'UnitB'], dtype='object')"
      ]
     },
     "execution_count": 22,
     "metadata": {},
     "output_type": "execute_result"
    }
   ],
   "source": [
    "df.columns=\"UnitA\",\"UnitB\"\n",
    "df.columns"
   ]
  },
  {
   "cell_type": "code",
   "execution_count": 34,
   "id": "7b31b7d9",
   "metadata": {
    "ExecuteTime": {
     "end_time": "2022-11-03T10:58:21.588903Z",
     "start_time": "2022-11-03T10:58:21.580533Z"
    }
   },
   "outputs": [],
   "source": [
    "df=df.dropna()"
   ]
  },
  {
   "cell_type": "code",
   "execution_count": 35,
   "id": "d96b77b5",
   "metadata": {
    "ExecuteTime": {
     "end_time": "2022-11-03T10:59:03.888787Z",
     "start_time": "2022-11-03T10:59:03.877249Z"
    }
   },
   "outputs": [
    {
     "data": {
      "text/plain": [
       "ShapiroResult(statistic=0.9727300405502319, pvalue=0.5224985480308533)"
      ]
     },
     "execution_count": 35,
     "metadata": {},
     "output_type": "execute_result"
    }
   ],
   "source": [
    "stats.shapiro(df.UnitB)"
   ]
  },
  {
   "cell_type": "code",
   "execution_count": 27,
   "id": "b17fca0c",
   "metadata": {
    "ExecuteTime": {
     "end_time": "2022-11-03T10:49:52.363392Z",
     "start_time": "2022-11-03T10:49:52.293296Z"
    }
   },
   "outputs": [
    {
     "data": {
      "text/plain": [
       "LeveneResult(statistic=0.0, pvalue=1.0)"
      ]
     },
     "execution_count": 27,
     "metadata": {},
     "output_type": "execute_result"
    }
   ],
   "source": [
    "scipy.stats.levene(df.UnitA,df.UnitB)"
   ]
  },
  {
   "cell_type": "code",
   "execution_count": 36,
   "id": "0f244347",
   "metadata": {
    "ExecuteTime": {
     "end_time": "2022-11-03T10:59:16.606552Z",
     "start_time": "2022-11-03T10:59:16.597576Z"
    }
   },
   "outputs": [
    {
     "data": {
      "text/plain": [
       "ShapiroResult(statistic=0.9727300405502319, pvalue=0.5224985480308533)"
      ]
     },
     "execution_count": 36,
     "metadata": {},
     "output_type": "execute_result"
    }
   ],
   "source": [
    "stats.shapiro(df.UnitA)"
   ]
  },
  {
   "cell_type": "code",
   "execution_count": 37,
   "id": "526caebe",
   "metadata": {
    "ExecuteTime": {
     "end_time": "2022-11-03T11:00:06.755693Z",
     "start_time": "2022-11-03T11:00:06.699864Z"
    }
   },
   "outputs": [
    {
     "data": {
      "text/plain": [
       "Ttest_indResult(statistic=0.0, pvalue=1.0)"
      ]
     },
     "execution_count": 37,
     "metadata": {},
     "output_type": "execute_result"
    }
   ],
   "source": [
    "scipy.stats.ttest_ind(df.UnitA,df.UnitB)"
   ]
  },
  {
   "cell_type": "code",
   "execution_count": null,
   "id": "a8a89dc3",
   "metadata": {},
   "outputs": [],
   "source": []
  }
 ],
 "metadata": {
  "kernelspec": {
   "display_name": "Python 3",
   "language": "python",
   "name": "python3"
  },
  "language_info": {
   "codemirror_mode": {
    "name": "ipython",
    "version": 3
   },
   "file_extension": ".py",
   "mimetype": "text/x-python",
   "name": "python",
   "nbconvert_exporter": "python",
   "pygments_lexer": "ipython3",
   "version": "3.8.8"
  }
 },
 "nbformat": 4,
 "nbformat_minor": 5
}
