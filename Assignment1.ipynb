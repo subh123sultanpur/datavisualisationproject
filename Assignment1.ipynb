{
 "cells": [
  {
   "cell_type": "code",
   "execution_count": 104,
   "id": "1f62f08f",
   "metadata": {},
   "outputs": [],
   "source": [
    "import pandas as pd\n",
    "import numpy as np\n",
    "import seaborn as sns\n",
    "import matplotlib.pyplot as plt\n"
   ]
  },
  {
   "cell_type": "code",
   "execution_count": 105,
   "id": "4bb4bcc1",
   "metadata": {},
   "outputs": [],
   "source": [
    "df1=pd.read_csv(\"Q1.csv\")\n",
    "df2=pd.read_csv(\"Q2.csv\")"
   ]
  },
  {
   "cell_type": "code",
   "execution_count": 106,
   "id": "feebf3a4",
   "metadata": {},
   "outputs": [
    {
     "data": {
      "text/html": [
       "<div>\n",
       "<style scoped>\n",
       "    .dataframe tbody tr th:only-of-type {\n",
       "        vertical-align: middle;\n",
       "    }\n",
       "\n",
       "    .dataframe tbody tr th {\n",
       "        vertical-align: top;\n",
       "    }\n",
       "\n",
       "    .dataframe thead th {\n",
       "        text-align: right;\n",
       "    }\n",
       "</style>\n",
       "<table border=\"1\" class=\"dataframe\">\n",
       "  <thead>\n",
       "    <tr style=\"text-align: right;\">\n",
       "      <th></th>\n",
       "      <th>Index</th>\n",
       "      <th>speed</th>\n",
       "      <th>dist</th>\n",
       "    </tr>\n",
       "  </thead>\n",
       "  <tbody>\n",
       "    <tr>\n",
       "      <th>0</th>\n",
       "      <td>1</td>\n",
       "      <td>4</td>\n",
       "      <td>2</td>\n",
       "    </tr>\n",
       "    <tr>\n",
       "      <th>1</th>\n",
       "      <td>2</td>\n",
       "      <td>4</td>\n",
       "      <td>10</td>\n",
       "    </tr>\n",
       "    <tr>\n",
       "      <th>2</th>\n",
       "      <td>3</td>\n",
       "      <td>7</td>\n",
       "      <td>4</td>\n",
       "    </tr>\n",
       "    <tr>\n",
       "      <th>3</th>\n",
       "      <td>4</td>\n",
       "      <td>7</td>\n",
       "      <td>22</td>\n",
       "    </tr>\n",
       "    <tr>\n",
       "      <th>4</th>\n",
       "      <td>5</td>\n",
       "      <td>8</td>\n",
       "      <td>16</td>\n",
       "    </tr>\n",
       "  </tbody>\n",
       "</table>\n",
       "</div>"
      ],
      "text/plain": [
       "   Index  speed  dist\n",
       "0      1      4     2\n",
       "1      2      4    10\n",
       "2      3      7     4\n",
       "3      4      7    22\n",
       "4      5      8    16"
      ]
     },
     "execution_count": 106,
     "metadata": {},
     "output_type": "execute_result"
    }
   ],
   "source": [
    "# show top 5 rows of df2 dataset\n",
    "df1.head()"
   ]
  },
  {
   "cell_type": "code",
   "execution_count": 107,
   "id": "3d8d56c2",
   "metadata": {},
   "outputs": [
    {
     "data": {
      "text/html": [
       "<div>\n",
       "<style scoped>\n",
       "    .dataframe tbody tr th:only-of-type {\n",
       "        vertical-align: middle;\n",
       "    }\n",
       "\n",
       "    .dataframe tbody tr th {\n",
       "        vertical-align: top;\n",
       "    }\n",
       "\n",
       "    .dataframe thead th {\n",
       "        text-align: right;\n",
       "    }\n",
       "</style>\n",
       "<table border=\"1\" class=\"dataframe\">\n",
       "  <thead>\n",
       "    <tr style=\"text-align: right;\">\n",
       "      <th></th>\n",
       "      <th>Unnamed: 0</th>\n",
       "      <th>SP</th>\n",
       "      <th>WT</th>\n",
       "    </tr>\n",
       "  </thead>\n",
       "  <tbody>\n",
       "    <tr>\n",
       "      <th>0</th>\n",
       "      <td>1</td>\n",
       "      <td>104.185353</td>\n",
       "      <td>28.762059</td>\n",
       "    </tr>\n",
       "    <tr>\n",
       "      <th>1</th>\n",
       "      <td>2</td>\n",
       "      <td>105.461264</td>\n",
       "      <td>30.466833</td>\n",
       "    </tr>\n",
       "    <tr>\n",
       "      <th>2</th>\n",
       "      <td>3</td>\n",
       "      <td>105.461264</td>\n",
       "      <td>30.193597</td>\n",
       "    </tr>\n",
       "    <tr>\n",
       "      <th>3</th>\n",
       "      <td>4</td>\n",
       "      <td>113.461264</td>\n",
       "      <td>30.632114</td>\n",
       "    </tr>\n",
       "    <tr>\n",
       "      <th>4</th>\n",
       "      <td>5</td>\n",
       "      <td>104.461264</td>\n",
       "      <td>29.889149</td>\n",
       "    </tr>\n",
       "  </tbody>\n",
       "</table>\n",
       "</div>"
      ],
      "text/plain": [
       "   Unnamed: 0          SP         WT\n",
       "0           1  104.185353  28.762059\n",
       "1           2  105.461264  30.466833\n",
       "2           3  105.461264  30.193597\n",
       "3           4  113.461264  30.632114\n",
       "4           5  104.461264  29.889149"
      ]
     },
     "execution_count": 107,
     "metadata": {},
     "output_type": "execute_result"
    }
   ],
   "source": [
    "# show to 5 rows of df1 dataset\n",
    "df2.head()\n"
   ]
  },
  {
   "cell_type": "markdown",
   "id": "a755129c",
   "metadata": {},
   "source": [
    "<pre><h3>Q1) Calculate Skewness, Kurtosis &amp; draw inferences on the following data\n",
    "a. Cars speed and distance</h3>\n",
    "</pre>"
   ]
  },
  {
   "cell_type": "code",
   "execution_count": 108,
   "id": "afa7d366",
   "metadata": {},
   "outputs": [
    {
     "name": "stdout",
     "output_type": "stream",
     "text": [
      "-0.11395477012828319\n"
     ]
    }
   ],
   "source": [
    "# import library to calculate skewness for speed\n",
    "from scipy.stats import skew\n",
    "\n",
    "print(skew(df1['speed']))"
   ]
  },
  {
   "cell_type": "code",
   "execution_count": 109,
   "id": "190362da",
   "metadata": {},
   "outputs": [
    {
     "name": "stdout",
     "output_type": "stream",
     "text": [
      "-0.5771474239437371\n"
     ]
    }
   ],
   "source": [
    "# import library to calculate Kurtosis for speed\n",
    "from scipy.stats import kurtosis\n",
    "\n",
    "print(kurtosis(df1['speed']))"
   ]
  },
  {
   "cell_type": "code",
   "execution_count": 110,
   "id": "05229845",
   "metadata": {},
   "outputs": [
    {
     "data": {
      "text/plain": [
       "(array([2., 3., 4., 6., 8., 5., 7., 8., 1., 6.]),\n",
       " array([ 4. ,  6.1,  8.2, 10.3, 12.4, 14.5, 16.6, 18.7, 20.8, 22.9, 25. ]),\n",
       " <BarContainer object of 10 artists>)"
      ]
     },
     "execution_count": 110,
     "metadata": {},
     "output_type": "execute_result"
    },
    {
     "data": {
      "image/png": "[encoded data removed]",
      "text/plain": [
       "<Figure size 432x288 with 1 Axes>"
      ]
     },
     "metadata": {
      "needs_background": "light"
     },
     "output_type": "display_data"
    }
   ],
   "source": [
    "plt.hist(df1['speed'])"
   ]
  },
  {
   "cell_type": "markdown",
   "id": "dacab27d",
   "metadata": {},
   "source": [
    "<pre><b>For Skewness</b>\n",
    "If the skewness is between -0.5 & 0.5, the data are nearly symmetrical therefore very slightly skew.\n",
    "Since skewness value is -0.11\n",
    "<b>For kurtosis</b>\n",
    "Since , -0.5771474239437371 is value of kurtosis therefore it is platykurtic (kurtosis < 3) \n",
    "</pre>"
   ]
  },
  {
   "cell_type": "code",
   "execution_count": 111,
   "id": "b4d13a25",
   "metadata": {},
   "outputs": [
    {
     "name": "stdout",
     "output_type": "stream",
     "text": [
      "0.7824835173114966\n"
     ]
    }
   ],
   "source": [
    "# import library to calculate skewness for distance\n",
    "from scipy.stats import skew\n",
    "\n",
    "print(skew(df1['dist']))"
   ]
  },
  {
   "cell_type": "code",
   "execution_count": 112,
   "id": "74e9aa8f",
   "metadata": {},
   "outputs": [
    {
     "name": "stdout",
     "output_type": "stream",
     "text": [
      "0.24801865717051808\n"
     ]
    }
   ],
   "source": [
    "# import library to calculate Kurtosis for distance\n",
    "from scipy.stats import kurtosis\n",
    "\n",
    "print(kurtosis(df1['dist']))"
   ]
  },
  {
   "cell_type": "code",
   "execution_count": 113,
   "id": "5af944b0",
   "metadata": {},
   "outputs": [
    {
     "data": {
      "text/plain": [
       "(array([ 4.,  8., 14.,  6.,  7.,  4.,  3.,  3.,  0.,  1.]),\n",
       " array([  2. ,  13.8,  25.6,  37.4,  49.2,  61. ,  72.8,  84.6,  96.4,\n",
       "        108.2, 120. ]),\n",
       " <BarContainer object of 10 artists>)"
      ]
     },
     "execution_count": 113,
     "metadata": {},
     "output_type": "execute_result"
    },
    {
     "data": {
      "image/png": "[encoded data removed]",
      "text/plain": [
       "<Figure size 432x288 with 1 Axes>"
      ]
     },
     "metadata": {
      "needs_background": "light"
     },
     "output_type": "display_data"
    }
   ],
   "source": [
    "plt.hist(df1['dist'])"
   ]
  },
  {
   "cell_type": "markdown",
   "id": "79669fc6",
   "metadata": {},
   "source": [
    " \n",
    "<pre>\n",
    "<b>For Skewness</b>\n",
    "Since, skewness value is 0.78 and if skewness between 0.5 & 1(positive skewed), the data are slightly skewed.</pre>\n",
    " \n",
    "<pre>\n",
    "<b>For Kurtosis</b>\n",
    "Since, value of Kurtosis is 0.248 it means the value less than 3 that => this is platkurtic</pre> "
   ]
  },
  {
   "cell_type": "markdown",
   "id": "b6890a42",
   "metadata": {},
   "source": [
    "<h3>b. Top Speed (SP) and Weight (WT)</h3>"
   ]
  },
  {
   "cell_type": "code",
   "execution_count": 114,
   "id": "f8f817b9",
   "metadata": {},
   "outputs": [
    {
     "name": "stdout",
     "output_type": "stream",
     "text": [
      "1.5814536794423764\n"
     ]
    }
   ],
   "source": [
    "#  que1 --b\n",
    "# Top Speed (SP) and Weight (WT)\n",
    "# import library to calculate skewness\n",
    "from scipy.stats import skew\n",
    "\n",
    "print(skew(df2['SP']))"
   ]
  },
  {
   "cell_type": "code",
   "execution_count": 115,
   "id": "90fec353",
   "metadata": {},
   "outputs": [
    {
     "name": "stdout",
     "output_type": "stream",
     "text": [
      "2.7235214865269244\n"
     ]
    }
   ],
   "source": [
    "# import library to calculate Kurtosis\n",
    "from scipy.stats import kurtosis\n",
    "\n",
    "print(kurtosis(df2['SP']))"
   ]
  },
  {
   "cell_type": "code",
   "execution_count": 116,
   "id": "97af1783",
   "metadata": {},
   "outputs": [
    {
     "data": {
      "text/plain": [
       "(array([ 8., 12., 32., 10., 10.,  2.,  1.,  2.,  1.,  3.]),\n",
       " array([ 99.56490661, 106.56826723, 113.57162785, 120.57498847,\n",
       "        127.57834909, 134.58170971, 141.58507032, 148.58843094,\n",
       "        155.59179156, 162.59515218, 169.5985128 ]),\n",
       " <BarContainer object of 10 artists>)"
      ]
     },
     "execution_count": 116,
     "metadata": {},
     "output_type": "execute_result"
    },
    {
     "data": {
      "image/png": "[encoded data removed]",
      "text/plain": [
       "<Figure size 432x288 with 1 Axes>"
      ]
     },
     "metadata": {
      "needs_background": "light"
     },
     "output_type": "display_data"
    }
   ],
   "source": [
    "plt.hist(df2['SP'])"
   ]
  },
  {
   "cell_type": "markdown",
   "id": "057fa489",
   "metadata": {},
   "source": [
    "<pre> <b>For Skewness of SP</b>\n",
    "Since, skewness is greater than 1 (positive skewed), the data are\n",
    "extremely skewed.\n",
    "<b> For kurtosis of SP</b>\n",
    "Since, kurtosis is less than 3 it means , this is platykurtic </pre "
   ]
  },
  {
   "cell_type": "code",
   "execution_count": 117,
   "id": "1a206e8f",
   "metadata": {},
   "outputs": [
    {
     "name": "stdout",
     "output_type": "stream",
     "text": [
      "-0.6033099322115126\n"
     ]
    }
   ],
   "source": [
    "# import library to calculate skewness\n",
    "from scipy.stats import skew\n",
    "\n",
    "print(skew(df2['WT']))"
   ]
  },
  {
   "cell_type": "code",
   "execution_count": 118,
   "id": "c5db5ed3",
   "metadata": {},
   "outputs": [
    {
     "name": "stdout",
     "output_type": "stream",
     "text": [
      "2.7235214865269244\n"
     ]
    }
   ],
   "source": [
    " # import library to calculate Kurtosis\n",
    "from scipy.stats import kurtosis\n",
    "\n",
    "print(kurtosis(df2['SP']))"
   ]
  },
  {
   "cell_type": "code",
   "execution_count": 119,
   "id": "17be28a0",
   "metadata": {},
   "outputs": [
    {
     "data": {
      "text/plain": [
       "(array([ 9.,  0.,  0., 22., 19., 18.,  7.,  5.,  0.,  1.]),\n",
       " array([15.71285853, 19.44134791, 23.1698373 , 26.89832668, 30.62681606,\n",
       "        34.35530544, 38.08379483, 41.81228421, 45.54077359, 49.26926298,\n",
       "        52.99775236]),\n",
       " <BarContainer object of 10 artists>)"
      ]
     },
     "execution_count": 119,
     "metadata": {},
     "output_type": "execute_result"
    },
    {
     "data": {
      "image/png": "[encoded data removed]",
      "text/plain": [
       "<Figure size 432x288 with 1 Axes>"
      ]
     },
     "metadata": {
      "needs_background": "light"
     },
     "output_type": "display_data"
    }
   ],
   "source": [
    "plt.hist(df2['WT'])"
   ]
  },
  {
   "cell_type": "markdown",
   "id": "78350983",
   "metadata": {},
   "source": [
    "<h4>Inference</h4>\n",
    "<pre><b>for Skewness</b>\n",
    "Since, value of skewness is -0.603... it means this is negative skew because \n",
    "the value lie between -1 to -0.5 said to be negatively skewed</pre>\n",
    "\n",
    "<pre><b>for Kurtosis</b>\n",
    "Since, value of kurtosis is 2.72... it means platykurtic (kurtosis<3) \n",
    "</pre>"
   ]
  },
  {
   "attachments": {},
   "cell_type": "markdown",
   "id": "0cb22056",
   "metadata": {},
   "source": [
    "<h3>Q2) Draw inferences about the following boxplot &amp; histogram</h3>\n",
    "<img src=\"histo.png\">\n",
    "<pre>\n",
    "<b>In histogram</b>\n",
    "<code>Skewness</code>\n",
    "we found skewness is right skew\n",
    " \n",
    "<pre>\n",
    "<b>In boxplot</b>\n",
    "We found outliers and skewness is right skewed\n",
    "</pre>"
   ]
  },
  {
   "cell_type": "markdown",
   "id": "29ac60aa",
   "metadata": {},
   "source": [
    "<h2>Que:4</h2>\n",
    "<pre><h3>Below are the scores obtained by a student in tests\n",
    "34,36,36,38,38,39,39,40,40,41,41,41,41,42,42,45,49,56\n",
    "1) Find mean, median, variance, standard deviation.\n",
    "2) What can we say about the student marks?</h3><pre>"
   ]
  },
  {
   "cell_type": "code",
   "execution_count": 120,
   "id": "fb8dad7c",
   "metadata": {},
   "outputs": [],
   "source": [
    "arr=np.array([34,41,41,38,38,39,39,40,40,36,36,42,42,45,49,56])"
   ]
  },
  {
   "cell_type": "code",
   "execution_count": 121,
   "id": "73fca1fe",
   "metadata": {},
   "outputs": [
    {
     "data": {
      "text/plain": [
       "41"
      ]
     },
     "execution_count": 121,
     "metadata": {},
     "output_type": "execute_result"
    }
   ],
   "source": [
    "# calculate mean\n",
    "from statistics import mean\n",
    "mean(arr)"
   ]
  },
  {
   "cell_type": "code",
   "execution_count": 122,
   "id": "1bc65d98",
   "metadata": {},
   "outputs": [
    {
     "data": {
      "text/plain": [
       "40.0"
      ]
     },
     "execution_count": 122,
     "metadata": {},
     "output_type": "execute_result"
    }
   ],
   "source": [
    "# calculate median\n",
    "from statistics import median\n",
    "median(arr)"
   ]
  },
  {
   "cell_type": "code",
   "execution_count": null,
   "id": "fe0bef61",
   "metadata": {},
   "outputs": [],
   "source": [
    " "
   ]
  },
  {
   "cell_type": "code",
   "execution_count": 123,
   "id": "c078dfd0",
   "metadata": {},
   "outputs": [
    {
     "data": {
      "text/plain": [
       "28"
      ]
     },
     "execution_count": 123,
     "metadata": {},
     "output_type": "execute_result"
    }
   ],
   "source": [
    "# calculate variance\n",
    "from statistics import variance\n",
    "variance(arr)"
   ]
  },
  {
   "cell_type": "code",
   "execution_count": 124,
   "id": "a213a7b3",
   "metadata": {},
   "outputs": [
    {
     "data": {
      "text/plain": [
       "5.291502622129181"
      ]
     },
     "execution_count": 124,
     "metadata": {},
     "output_type": "execute_result"
    }
   ],
   "source": [
    "# calculate standard deviation\n",
    "from statistics import stdev\n",
    "stdev(arr)"
   ]
  },
  {
   "cell_type": "markdown",
   "id": "c4fe4318",
   "metadata": {},
   "source": [
    "<h3>Inference</h3>\n",
    "<pre> According my analyzation average marks obtained by class is 40 , it means mostly student score 40 marks in exam . It means knowledge of student in that subject are similiar, it imply if we want to increase the marks of students teacher need to change strategy of  teaching in class</pre> "
   ]
  },
  {
   "cell_type": "markdown",
   "id": "816a8e61",
   "metadata": {},
   "source": [
    "<h3>Q5) What is the nature of skewness when mean, median of data are equal?</h3>"
   ]
  },
  {
   "cell_type": "markdown",
   "id": "c77898d0",
   "metadata": {},
   "source": [
    " <pre><code>when mean , median and mode are equal it means nature of skewness is symmetric</code></pre>\n",
    " <img src=\"symmetrical_skew.png\">"
   ]
  },
  {
   "cell_type": "markdown",
   "id": "22480f0c",
   "metadata": {},
   "source": [
    "<h3>Q6) What is the nature of skewness when mean &gt; median?</h3>"
   ]
  },
  {
   "cell_type": "markdown",
   "id": "53a24771",
   "metadata": {},
   "source": [
    "<pre> since, mean >median it imply skewness is positive skewed </pre>\n",
    "<img src=\"Positive_skewed.png\">"
   ]
  },
  {
   "cell_type": "markdown",
   "id": "3b6f57fc",
   "metadata": {},
   "source": [
    "<h3>Q7) What is the nature of skewness when median &gt; mean?</h3>"
   ]
  },
  {
   "cell_type": "markdown",
   "id": "14643d53",
   "metadata": {},
   "source": [
    "<pre>since, median> mean it is conditon of Negative skewed </pre>\n",
    " <img src=\"Negative_skewed.png\">"
   ]
  },
  {
   "cell_type": "markdown",
   "id": "f7118509",
   "metadata": {},
   "source": [
    "<h3>Q8) What does positive kurtosis value indicates for a data?<h3>"
   ]
  },
  {
   "cell_type": "markdown",
   "id": "5a2a5193",
   "metadata": {},
   "source": [
    "<pre>\n",
    "<blockquote>Mostly positive kurtosis value indicate\n",
    "Mesokurtic and Leptokurtic nature</blockquote>\n",
    "Positive excess values of kurtosis (>3) indicate that a distribution is peaked and possess thick tails. Leptokurtic distributions have positive kurtosis values. A leptokurtic distribution has a higher peak (thin bell) and taller (i.e. fatter and heavy) tails than a normal distribution</pre>\n",
    "<img src=\"leptokurtic.jpeg\">\n"
   ]
  },
  {
   "cell_type": "markdown",
   "id": "d797406f",
   "metadata": {},
   "source": [
    "<h3>Q9) What does negative kurtosis value indicates for a data?</h3>"
   ]
  },
  {
   "cell_type": "markdown",
   "id": "a5ba8461",
   "metadata": {},
   "source": [
    "<h3>Inference</h3>\n",
    "<pre>A distribution with a negative kurtosis value indicates that the distribution has lighter tails \n",
    "and a flatter peak than the normal distribution. For example, data that follow a beta distribution with\n",
    "first and second shape parameters equal to 2 have a negative kurtosis value.</pre>\n",
    "\n",
    "<img src=\"Negative_kurtosis.png\">"
   ]
  },
  {
   "cell_type": "markdown",
   "id": "05a0a46d",
   "metadata": {},
   "source": [
    "<h3>Q10)Answer the below questions using the below boxplot visualization.</h3>\n",
    "<img src=\"boxplot.png\">\n",
    "<pre><h3>What can we say about the distribution of the\n",
    "data? What is nature of skewness of the data?\n",
    "What will be the IQR of the data (approximately)?</h3></pre>"
   ]
  },
  {
   "cell_type": "markdown",
   "id": "6e9e44a2",
   "metadata": {},
   "source": [
    "<pre><b>=>the vertical line inside the box that represents the median is much closer to the third quartile than the first quartile, which means the distribution is left-skewed.</b></pre>\n",
    "\n",
    "<pre>=>The interquartile range, often abbreviated IQR, is the difference between the third quartile and the first quartile.\n",
    "<code>\n",
    "IQR  = Q3 – Q1\n",
    "Q3 (Upper Quartile) = 18\n",
    "Q1 (Lower Quartile) = 10\n",
    "Interquartile Range (IQR) = 18 – 10 = 8\n",
    "</code>\n",
    "</pre>\n",
    "<img src=\"boxplot_skewness.png\">"
   ]
  },
  {
   "cell_type": "markdown",
   "id": "378910f4",
   "metadata": {},
   "source": [
    "<h3>Q11) Comment on the below Boxplot visualizations?</h3>\n",
    "<img src=\"compare_boxplot.png\">\n",
    "<h4>Draw an Inference from the distribution of data for Boxplot 1 with respect Boxplot2.</h4>"
   ]
  },
  {
   "cell_type": "markdown",
   "id": "82d0a136",
   "metadata": {},
   "source": [
    "<h3>Observation</h3>\n",
    "<pre><b>Median Values Compare</b> \n",
    "The line in the middle of the box plot for  boxplot 1 is equal to the line for boxplot 2, which indicates that  boxplot1 and boxplot2 has same median.</pre>\n",
    "\n",
    "<pre><b>Calculate dispersion</b>\n",
    "The box plot for boxplot 2 is much longer than Boxplot 1, which indicates that the data are much more spread out among boxplot1 who used boxplot 2.</pre>\n",
    "\n",
    "<pre><b>Skewness compare</b>\n",
    "The line in the middle of the box plot for boxplot 1  is close to median, which indicates that the distribution of data who used boxplot1 is no skewed. Similiarly , the line in the middle of the box plot for Boxplot 2  , which means the distribution of data is no skew at all.\n",
    "</pre>\n",
    "\n",
    "<pre><b>Check Outliers present</b>\n",
    "Neither box plot has tiny circles that extend beyond the top or bottom whiskers, which means neither dataset had any clear outliers.</pre>"
   ]
  },
  {
   "cell_type": "markdown",
   "id": "02f118e9",
   "metadata": {},
   "source": [
    "<h3>Q12</h3>\n",
    "<img src=\"boxplot_prblm.png\">\n",
    "<pre><h4>Answer the following three questions based on the boxplot above.\n",
    "(i) What is inter-quartile range of this dataset? (please approximate the\n",
    "numbers) In one line, explain what this value implies.\n",
    "(ii) What can we say about the skewness of this dataset?\n",
    "(iii) If it was found that the data point with the value 25 is actually 2.5, how\n",
    "would the new boxplot be affected?</h4></pre>"
   ]
  },
  {
   "cell_type": "markdown",
   "id": "4e5d13be",
   "metadata": {},
   "source": [
    "<pre>=>The interquartile range, often abbreviated IQR, is the difference between the third quartile and the first quartile.\n",
    "\n",
    "IQR  = Q3 – Q1\n",
    "Q3 (Upper Quartile) = 12\n",
    "Q1 (Lower Quartile) = 5\n",
    "Interquartile Range (IQR) = 12-5 = 7\n",
    "\n",
    "=>skewness for datasset is right skew\n",
    "\n",
    "=> If it was found that the data point with the value 25 is actually 2.5, then we get outlier"
   ]
  },
  {
   "cell_type": "markdown",
   "id": "298d3ce9",
   "metadata": {},
   "source": [
    "<h3>Q13)</h3>\n",
    "<img src=\"hist_plot.png\">\n",
    "<pre><h4>Answer the following three questions based on the histogram above.\n",
    "(i) Where would the mode of this dataset lie?\n",
    "(ii) Comment on the skewness of the dataset.\n",
    "(iii) Suppose that the above histogram and the boxplot in question 2 are\n",
    "plotted for the same dataset. Explain how these graphs complement each\n",
    "other in providing information about any dataset.</h4></pre>"
   ]
  },
  {
   "cell_type": "markdown",
   "id": "1efb5062",
   "metadata": {},
   "source": [
    "<pre>\n",
    "<b>Mode for dataset</b>\n",
    "=>It is multimodal dataset, therfore mode set is{5,7};\n",
    "\n",
    "<b>Skewness for dataset</b>\n",
    "=>It is found as right skew dataset\n",
    "\n",
    "=>Both provide information about right skew"
   ]
  },
  {
   "cell_type": "code",
   "execution_count": null,
   "id": "56958858",
   "metadata": {},
   "outputs": [],
   "source": []
  }
 ],
 "metadata": {
  "kernelspec": {
   "display_name": "Python 3 (ipykernel)",
   "language": "python",
   "name": "python3"
  },
  "language_info": {
   "codemirror_mode": {
    "name": "ipython",
    "version": 3
   },
   "file_extension": ".py",
   "mimetype": "text/x-python",
   "name": "python",
   "nbconvert_exporter": "python",
   "pygments_lexer": "ipython3",
   "version": "3.10.5"
  }
 },
 "nbformat": 4,
 "nbformat_minor": 5
}
