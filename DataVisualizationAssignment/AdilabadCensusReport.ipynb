{
 "cells": [
  {
   "cell_type": "markdown",
   "id": "35a5e203",
   "metadata": {},
   "source": [
    "<h1>Importing the libraries</h1>"
   ]
  },
  {
   "cell_type": "code",
   "execution_count": 28,
   "id": "b4c1fc65",
   "metadata": {
    "ExecuteTime": {
     "end_time": "2022-09-20T11:46:20.373324Z",
     "start_time": "2022-09-20T11:46:20.356757Z"
    }
   },
   "outputs": [],
   "source": [
    "import numpy as np \n",
    "import pandas as pd \n",
    "import seaborn as sns\n",
    "import matplotlib.pyplot as plt"
   ]
  },
  {
   "cell_type": "markdown",
   "id": "62653933",
   "metadata": {},
   "source": [
    "<pre>\n",
    "<h3>Problem Statement</h3>\n",
    "\n",
    "You have been given a dataset that describe the census of Adilabad. Now based on the given features, you have to obtained conclusion.</pre>"
   ]
  },
  {
   "cell_type": "markdown",
   "id": "54fc6a13",
   "metadata": {},
   "source": [
    "<h2>Defing DataFrame</h2>"
   ]
  },
  {
   "cell_type": "code",
   "execution_count": 29,
   "id": "74205152",
   "metadata": {
    "ExecuteTime": {
     "end_time": "2022-09-20T11:46:20.419827Z",
     "start_time": "2022-09-20T11:46:20.375324Z"
    }
   },
   "outputs": [],
   "source": [
    "df=pd.read_csv(\"AdilabadCensus.csv\")"
   ]
  },
  {
   "cell_type": "markdown",
   "id": "91780542",
   "metadata": {},
   "source": [
    "<h2>EDA-Expolatory Data Analysis</h2>"
   ]
  },
  {
   "cell_type": "code",
   "execution_count": 30,
   "id": "dc906654",
   "metadata": {
    "ExecuteTime": {
     "end_time": "2022-09-20T11:46:20.451084Z",
     "start_time": "2022-09-20T11:46:20.421819Z"
    }
   },
   "outputs": [
    {
     "data": {
      "text/html": [
       "<div>\n",
       "<style scoped>\n",
       "    .dataframe tbody tr th:only-of-type {\n",
       "        vertical-align: middle;\n",
       "    }\n",
       "\n",
       "    .dataframe tbody tr th {\n",
       "        vertical-align: top;\n",
       "    }\n",
       "\n",
       "    .dataframe thead th {\n",
       "        text-align: right;\n",
       "    }\n",
       "</style>\n",
       "<table border=\"1\" class=\"dataframe\">\n",
       "  <thead>\n",
       "    <tr style=\"text-align: right;\">\n",
       "      <th></th>\n",
       "      <th>State</th>\n",
       "      <th>District</th>\n",
       "      <th>DT_Name</th>\n",
       "      <th>CD Block</th>\n",
       "      <th>Town/Village</th>\n",
       "      <th>Ward</th>\n",
       "      <th>EB</th>\n",
       "      <th>Level</th>\n",
       "      <th>Name</th>\n",
       "      <th>TRU</th>\n",
       "      <th>...</th>\n",
       "      <th>MARG_AL_0_3_F</th>\n",
       "      <th>MARG_HH_0_3_P</th>\n",
       "      <th>MARG_HH_0_3_M</th>\n",
       "      <th>MARG_HH_0_3_F</th>\n",
       "      <th>MARG_OT_0_3_P</th>\n",
       "      <th>MARG_OT_0_3_M</th>\n",
       "      <th>MARG_OT_0_3_F</th>\n",
       "      <th>NON_WORK_P</th>\n",
       "      <th>NON_WORK_M</th>\n",
       "      <th>NON_WORK_F</th>\n",
       "    </tr>\n",
       "  </thead>\n",
       "  <tbody>\n",
       "    <tr>\n",
       "      <th>0</th>\n",
       "      <td>28</td>\n",
       "      <td>532</td>\n",
       "      <td>Adilabad</td>\n",
       "      <td>1</td>\n",
       "      <td>0</td>\n",
       "      <td>0</td>\n",
       "      <td>0</td>\n",
       "      <td>CD BLOCK</td>\n",
       "      <td>Tamsi</td>\n",
       "      <td>Total</td>\n",
       "      <td>...</td>\n",
       "      <td>174</td>\n",
       "      <td>10</td>\n",
       "      <td>6</td>\n",
       "      <td>4</td>\n",
       "      <td>71</td>\n",
       "      <td>38</td>\n",
       "      <td>33</td>\n",
       "      <td>16805</td>\n",
       "      <td>7843</td>\n",
       "      <td>8962</td>\n",
       "    </tr>\n",
       "    <tr>\n",
       "      <th>1</th>\n",
       "      <td>28</td>\n",
       "      <td>532</td>\n",
       "      <td>Adilabad</td>\n",
       "      <td>1</td>\n",
       "      <td>0</td>\n",
       "      <td>0</td>\n",
       "      <td>0</td>\n",
       "      <td>CD BLOCK</td>\n",
       "      <td>Tamsi</td>\n",
       "      <td>Rural</td>\n",
       "      <td>...</td>\n",
       "      <td>174</td>\n",
       "      <td>10</td>\n",
       "      <td>6</td>\n",
       "      <td>4</td>\n",
       "      <td>71</td>\n",
       "      <td>38</td>\n",
       "      <td>33</td>\n",
       "      <td>16805</td>\n",
       "      <td>7843</td>\n",
       "      <td>8962</td>\n",
       "    </tr>\n",
       "    <tr>\n",
       "      <th>2</th>\n",
       "      <td>28</td>\n",
       "      <td>532</td>\n",
       "      <td>Adilabad</td>\n",
       "      <td>1</td>\n",
       "      <td>0</td>\n",
       "      <td>0</td>\n",
       "      <td>0</td>\n",
       "      <td>CD BLOCK</td>\n",
       "      <td>Tamsi</td>\n",
       "      <td>Urban</td>\n",
       "      <td>...</td>\n",
       "      <td>0</td>\n",
       "      <td>0</td>\n",
       "      <td>0</td>\n",
       "      <td>0</td>\n",
       "      <td>0</td>\n",
       "      <td>0</td>\n",
       "      <td>0</td>\n",
       "      <td>0</td>\n",
       "      <td>0</td>\n",
       "      <td>0</td>\n",
       "    </tr>\n",
       "    <tr>\n",
       "      <th>3</th>\n",
       "      <td>28</td>\n",
       "      <td>532</td>\n",
       "      <td>Adilabad</td>\n",
       "      <td>1</td>\n",
       "      <td>568945</td>\n",
       "      <td>0</td>\n",
       "      <td>0</td>\n",
       "      <td>VILLAGE</td>\n",
       "      <td>Karanji (T)</td>\n",
       "      <td>Rural</td>\n",
       "      <td>...</td>\n",
       "      <td>46</td>\n",
       "      <td>1</td>\n",
       "      <td>0</td>\n",
       "      <td>1</td>\n",
       "      <td>0</td>\n",
       "      <td>0</td>\n",
       "      <td>0</td>\n",
       "      <td>853</td>\n",
       "      <td>383</td>\n",
       "      <td>470</td>\n",
       "    </tr>\n",
       "    <tr>\n",
       "      <th>4</th>\n",
       "      <td>28</td>\n",
       "      <td>532</td>\n",
       "      <td>Adilabad</td>\n",
       "      <td>1</td>\n",
       "      <td>568946</td>\n",
       "      <td>0</td>\n",
       "      <td>0</td>\n",
       "      <td>VILLAGE</td>\n",
       "      <td>Guledi</td>\n",
       "      <td>Rural</td>\n",
       "      <td>...</td>\n",
       "      <td>0</td>\n",
       "      <td>0</td>\n",
       "      <td>0</td>\n",
       "      <td>0</td>\n",
       "      <td>0</td>\n",
       "      <td>0</td>\n",
       "      <td>0</td>\n",
       "      <td>134</td>\n",
       "      <td>64</td>\n",
       "      <td>70</td>\n",
       "    </tr>\n",
       "  </tbody>\n",
       "</table>\n",
       "<p>5 rows × 95 columns</p>\n",
       "</div>"
      ],
      "text/plain": [
       "   State  District   DT_Name  CD Block  Town/Village  Ward  EB     Level  \\\n",
       "0     28       532  Adilabad         1             0     0   0  CD BLOCK   \n",
       "1     28       532  Adilabad         1             0     0   0  CD BLOCK   \n",
       "2     28       532  Adilabad         1             0     0   0  CD BLOCK   \n",
       "3     28       532  Adilabad         1        568945     0   0   VILLAGE   \n",
       "4     28       532  Adilabad         1        568946     0   0   VILLAGE   \n",
       "\n",
       "          Name    TRU  ...  MARG_AL_0_3_F  MARG_HH_0_3_P  MARG_HH_0_3_M  \\\n",
       "0        Tamsi  Total  ...            174             10              6   \n",
       "1        Tamsi  Rural  ...            174             10              6   \n",
       "2        Tamsi  Urban  ...              0              0              0   \n",
       "3  Karanji (T)  Rural  ...             46              1              0   \n",
       "4       Guledi  Rural  ...              0              0              0   \n",
       "\n",
       "   MARG_HH_0_3_F  MARG_OT_0_3_P  MARG_OT_0_3_M  MARG_OT_0_3_F  NON_WORK_P  \\\n",
       "0              4             71             38             33       16805   \n",
       "1              4             71             38             33       16805   \n",
       "2              0              0              0              0           0   \n",
       "3              1              0              0              0         853   \n",
       "4              0              0              0              0         134   \n",
       "\n",
       "   NON_WORK_M  NON_WORK_F  \n",
       "0        7843        8962  \n",
       "1        7843        8962  \n",
       "2           0           0  \n",
       "3         383         470  \n",
       "4          64          70  \n",
       "\n",
       "[5 rows x 95 columns]"
      ]
     },
     "execution_count": 30,
     "metadata": {},
     "output_type": "execute_result"
    }
   ],
   "source": [
    "# Get top 5 rows \n",
    "df.head()"
   ]
  },
  {
   "cell_type": "code",
   "execution_count": 31,
   "id": "b04764c4",
   "metadata": {
    "ExecuteTime": {
     "end_time": "2022-09-20T11:46:20.467151Z",
     "start_time": "2022-09-20T11:46:20.453088Z"
    }
   },
   "outputs": [
    {
     "data": {
      "text/html": [
       "<div>\n",
       "<style scoped>\n",
       "    .dataframe tbody tr th:only-of-type {\n",
       "        vertical-align: middle;\n",
       "    }\n",
       "\n",
       "    .dataframe tbody tr th {\n",
       "        vertical-align: top;\n",
       "    }\n",
       "\n",
       "    .dataframe thead th {\n",
       "        text-align: right;\n",
       "    }\n",
       "</style>\n",
       "<table border=\"1\" class=\"dataframe\">\n",
       "  <thead>\n",
       "    <tr style=\"text-align: right;\">\n",
       "      <th></th>\n",
       "      <th>State</th>\n",
       "      <th>District</th>\n",
       "      <th>DT_Name</th>\n",
       "      <th>CD Block</th>\n",
       "      <th>Town/Village</th>\n",
       "      <th>Ward</th>\n",
       "      <th>EB</th>\n",
       "      <th>Level</th>\n",
       "      <th>Name</th>\n",
       "      <th>TRU</th>\n",
       "      <th>...</th>\n",
       "      <th>MARG_AL_0_3_F</th>\n",
       "      <th>MARG_HH_0_3_P</th>\n",
       "      <th>MARG_HH_0_3_M</th>\n",
       "      <th>MARG_HH_0_3_F</th>\n",
       "      <th>MARG_OT_0_3_P</th>\n",
       "      <th>MARG_OT_0_3_M</th>\n",
       "      <th>MARG_OT_0_3_F</th>\n",
       "      <th>NON_WORK_P</th>\n",
       "      <th>NON_WORK_M</th>\n",
       "      <th>NON_WORK_F</th>\n",
       "    </tr>\n",
       "  </thead>\n",
       "  <tbody>\n",
       "    <tr>\n",
       "      <th>1892</th>\n",
       "      <td>28</td>\n",
       "      <td>532</td>\n",
       "      <td>Adilabad</td>\n",
       "      <td>52</td>\n",
       "      <td>570681</td>\n",
       "      <td>0</td>\n",
       "      <td>0</td>\n",
       "      <td>VILLAGE</td>\n",
       "      <td>Ponnaram</td>\n",
       "      <td>Rural</td>\n",
       "      <td>...</td>\n",
       "      <td>1</td>\n",
       "      <td>0</td>\n",
       "      <td>0</td>\n",
       "      <td>0</td>\n",
       "      <td>0</td>\n",
       "      <td>0</td>\n",
       "      <td>0</td>\n",
       "      <td>272</td>\n",
       "      <td>161</td>\n",
       "      <td>111</td>\n",
       "    </tr>\n",
       "    <tr>\n",
       "      <th>1893</th>\n",
       "      <td>28</td>\n",
       "      <td>532</td>\n",
       "      <td>Adilabad</td>\n",
       "      <td>52</td>\n",
       "      <td>570682</td>\n",
       "      <td>0</td>\n",
       "      <td>0</td>\n",
       "      <td>VILLAGE</td>\n",
       "      <td>Somanpalle</td>\n",
       "      <td>Rural</td>\n",
       "      <td>...</td>\n",
       "      <td>41</td>\n",
       "      <td>0</td>\n",
       "      <td>0</td>\n",
       "      <td>0</td>\n",
       "      <td>21</td>\n",
       "      <td>13</td>\n",
       "      <td>8</td>\n",
       "      <td>684</td>\n",
       "      <td>340</td>\n",
       "      <td>344</td>\n",
       "    </tr>\n",
       "    <tr>\n",
       "      <th>1894</th>\n",
       "      <td>28</td>\n",
       "      <td>532</td>\n",
       "      <td>Adilabad</td>\n",
       "      <td>52</td>\n",
       "      <td>570683</td>\n",
       "      <td>0</td>\n",
       "      <td>0</td>\n",
       "      <td>VILLAGE</td>\n",
       "      <td>Nagapur</td>\n",
       "      <td>Rural</td>\n",
       "      <td>...</td>\n",
       "      <td>8</td>\n",
       "      <td>5</td>\n",
       "      <td>1</td>\n",
       "      <td>4</td>\n",
       "      <td>10</td>\n",
       "      <td>3</td>\n",
       "      <td>7</td>\n",
       "      <td>366</td>\n",
       "      <td>178</td>\n",
       "      <td>188</td>\n",
       "    </tr>\n",
       "    <tr>\n",
       "      <th>1895</th>\n",
       "      <td>28</td>\n",
       "      <td>532</td>\n",
       "      <td>Adilabad</td>\n",
       "      <td>52</td>\n",
       "      <td>570684</td>\n",
       "      <td>0</td>\n",
       "      <td>0</td>\n",
       "      <td>VILLAGE</td>\n",
       "      <td>Beervelli</td>\n",
       "      <td>Rural</td>\n",
       "      <td>...</td>\n",
       "      <td>0</td>\n",
       "      <td>0</td>\n",
       "      <td>0</td>\n",
       "      <td>0</td>\n",
       "      <td>0</td>\n",
       "      <td>0</td>\n",
       "      <td>0</td>\n",
       "      <td>299</td>\n",
       "      <td>85</td>\n",
       "      <td>214</td>\n",
       "    </tr>\n",
       "    <tr>\n",
       "      <th>1896</th>\n",
       "      <td>28</td>\n",
       "      <td>532</td>\n",
       "      <td>Adilabad</td>\n",
       "      <td>52</td>\n",
       "      <td>570685</td>\n",
       "      <td>0</td>\n",
       "      <td>0</td>\n",
       "      <td>TOWN</td>\n",
       "      <td>Chennur (CT)</td>\n",
       "      <td>Urban</td>\n",
       "      <td>...</td>\n",
       "      <td>52</td>\n",
       "      <td>9</td>\n",
       "      <td>3</td>\n",
       "      <td>6</td>\n",
       "      <td>100</td>\n",
       "      <td>63</td>\n",
       "      <td>37</td>\n",
       "      <td>14752</td>\n",
       "      <td>5725</td>\n",
       "      <td>9027</td>\n",
       "    </tr>\n",
       "  </tbody>\n",
       "</table>\n",
       "<p>5 rows × 95 columns</p>\n",
       "</div>"
      ],
      "text/plain": [
       "      State  District   DT_Name  CD Block  Town/Village  Ward  EB    Level  \\\n",
       "1892     28       532  Adilabad        52        570681     0   0  VILLAGE   \n",
       "1893     28       532  Adilabad        52        570682     0   0  VILLAGE   \n",
       "1894     28       532  Adilabad        52        570683     0   0  VILLAGE   \n",
       "1895     28       532  Adilabad        52        570684     0   0  VILLAGE   \n",
       "1896     28       532  Adilabad        52        570685     0   0     TOWN   \n",
       "\n",
       "              Name    TRU  ...  MARG_AL_0_3_F  MARG_HH_0_3_P  MARG_HH_0_3_M  \\\n",
       "1892      Ponnaram  Rural  ...              1              0              0   \n",
       "1893    Somanpalle  Rural  ...             41              0              0   \n",
       "1894       Nagapur  Rural  ...              8              5              1   \n",
       "1895     Beervelli  Rural  ...              0              0              0   \n",
       "1896  Chennur (CT)  Urban  ...             52              9              3   \n",
       "\n",
       "      MARG_HH_0_3_F  MARG_OT_0_3_P  MARG_OT_0_3_M  MARG_OT_0_3_F  NON_WORK_P  \\\n",
       "1892              0              0              0              0         272   \n",
       "1893              0             21             13              8         684   \n",
       "1894              4             10              3              7         366   \n",
       "1895              0              0              0              0         299   \n",
       "1896              6            100             63             37       14752   \n",
       "\n",
       "      NON_WORK_M  NON_WORK_F  \n",
       "1892         161         111  \n",
       "1893         340         344  \n",
       "1894         178         188  \n",
       "1895          85         214  \n",
       "1896        5725        9027  \n",
       "\n",
       "[5 rows x 95 columns]"
      ]
     },
     "execution_count": 31,
     "metadata": {},
     "output_type": "execute_result"
    }
   ],
   "source": [
    "# Get bottom 5 rows\n",
    "df.tail()"
   ]
  },
  {
   "cell_type": "code",
   "execution_count": 32,
   "id": "be5f5ef2",
   "metadata": {
    "ExecuteTime": {
     "end_time": "2022-09-20T11:46:20.483105Z",
     "start_time": "2022-09-20T11:46:20.469101Z"
    }
   },
   "outputs": [
    {
     "data": {
      "text/plain": [
       "(1897, 95)"
      ]
     },
     "execution_count": 32,
     "metadata": {},
     "output_type": "execute_result"
    }
   ],
   "source": [
    "# for calculating number of rows\n",
    "df.shape"
   ]
  },
  {
   "cell_type": "code",
   "execution_count": 33,
   "id": "a581be0f",
   "metadata": {
    "ExecuteTime": {
     "end_time": "2022-09-20T11:46:20.498996Z",
     "start_time": "2022-09-20T11:46:20.485099Z"
    }
   },
   "outputs": [
    {
     "data": {
      "text/plain": [
       "Index(['State', 'District', 'DT_Name', 'CD Block', 'Town/Village', 'Ward',\n",
       "       'EB', 'Level', 'Name', 'TRU', 'No_HH', 'TOT_P', 'TOT_M', 'TOT_F',\n",
       "       'P_06', 'M_06', 'F_06', 'P_SC', 'M_SC', 'F_SC', 'P_ST', 'M_ST', 'F_ST',\n",
       "       'P_LIT', 'M_LIT', 'F_LIT', 'P_ILL', 'M_ILL', 'F_ILL', 'TOT_WORK_P',\n",
       "       'TOT_WORK_M', 'TOT_WORK_F', 'MAINWORK_P', 'MAINWORK_M', 'MAINWORK_F',\n",
       "       'MAIN_CL_P', 'MAIN_CL_M', 'MAIN_CL_F', 'MAIN_AL_P', 'MAIN_AL_M',\n",
       "       'MAIN_AL_F', 'MAIN_HH_P', 'MAIN_HH_M', 'MAIN_HH_F', 'MAIN_OT_P',\n",
       "       'MAIN_OT_M', 'MAIN_OT_F', 'MARGWORK_P', 'MARGWORK_M', 'MARGWORK_F',\n",
       "       'MARG_CL_P', 'MARG_CL_M', 'MARG_CL_F', 'MARG_AL_P', 'MARG_AL_M',\n",
       "       'MARG_AL_F', 'MARG_HH_P', 'MARG_HH_M', 'MARG_HH_F', 'MARG_OT_P',\n",
       "       'MARG_OT_M', 'MARG_OT_F', 'MARGWORK_3_6_P', 'MARGWORK_3_6_M',\n",
       "       'MARGWORK_3_6_F', 'MARG_CL_3_6_P', 'MARG_CL_3_6_M', 'MARG_CL_3_6_F',\n",
       "       'MARG_AL_3_6_P', 'MARG_AL_3_6_M', 'MARG_AL_3_6_F', 'MARG_HH_3_6_P',\n",
       "       'MARG_HH_3_6_M', 'MARG_HH_3_6_F', 'MARG_OT_3_6_P', 'MARG_OT_3_6_M',\n",
       "       'MARG_OT_3_6_F', 'MARGWORK_0_3_P', 'MARGWORK_0_3_M', 'MARGWORK_0_3_F',\n",
       "       'MARG_CL_0_3_P', 'MARG_CL_0_3_M', 'MARG_CL_0_3_F', 'MARG_AL_0_3_P',\n",
       "       'MARG_AL_0_3_M', 'MARG_AL_0_3_F', 'MARG_HH_0_3_P', 'MARG_HH_0_3_M',\n",
       "       'MARG_HH_0_3_F', 'MARG_OT_0_3_P', 'MARG_OT_0_3_M', 'MARG_OT_0_3_F',\n",
       "       'NON_WORK_P', 'NON_WORK_M', 'NON_WORK_F'],\n",
       "      dtype='object')"
      ]
     },
     "execution_count": 33,
     "metadata": {},
     "output_type": "execute_result"
    }
   ],
   "source": [
    "# for calculating number of columns\n",
    "df.columns"
   ]
  },
  {
   "cell_type": "code",
   "execution_count": 34,
   "id": "b2c215f4",
   "metadata": {
    "ExecuteTime": {
     "end_time": "2022-09-20T11:46:20.530332Z",
     "start_time": "2022-09-20T11:46:20.501990Z"
    }
   },
   "outputs": [
    {
     "name": "stdout",
     "output_type": "stream",
     "text": [
      "<class 'pandas.core.frame.DataFrame'>\n",
      "RangeIndex: 1897 entries, 0 to 1896\n",
      "Data columns (total 95 columns):\n",
      " #   Column          Non-Null Count  Dtype \n",
      "---  ------          --------------  ----- \n",
      " 0   State           1897 non-null   int64 \n",
      " 1   District        1897 non-null   int64 \n",
      " 2   DT_Name         1897 non-null   object\n",
      " 3   CD Block        1897 non-null   int64 \n",
      " 4   Town/Village    1897 non-null   int64 \n",
      " 5   Ward            1897 non-null   int64 \n",
      " 6   EB              1897 non-null   int64 \n",
      " 7   Level           1897 non-null   object\n",
      " 8   Name            1897 non-null   object\n",
      " 9   TRU             1897 non-null   object\n",
      " 10  No_HH           1897 non-null   int64 \n",
      " 11  TOT_P           1897 non-null   int64 \n",
      " 12  TOT_M           1897 non-null   int64 \n",
      " 13  TOT_F           1897 non-null   int64 \n",
      " 14  P_06            1897 non-null   int64 \n",
      " 15  M_06            1897 non-null   int64 \n",
      " 16  F_06            1897 non-null   int64 \n",
      " 17  P_SC            1897 non-null   int64 \n",
      " 18  M_SC            1897 non-null   int64 \n",
      " 19  F_SC            1897 non-null   int64 \n",
      " 20  P_ST            1897 non-null   int64 \n",
      " 21  M_ST            1897 non-null   int64 \n",
      " 22  F_ST            1897 non-null   int64 \n",
      " 23  P_LIT           1897 non-null   int64 \n",
      " 24  M_LIT           1897 non-null   int64 \n",
      " 25  F_LIT           1897 non-null   int64 \n",
      " 26  P_ILL           1897 non-null   int64 \n",
      " 27  M_ILL           1897 non-null   int64 \n",
      " 28  F_ILL           1897 non-null   int64 \n",
      " 29  TOT_WORK_P      1897 non-null   int64 \n",
      " 30  TOT_WORK_M      1897 non-null   int64 \n",
      " 31  TOT_WORK_F      1897 non-null   int64 \n",
      " 32  MAINWORK_P      1897 non-null   int64 \n",
      " 33  MAINWORK_M      1897 non-null   int64 \n",
      " 34  MAINWORK_F      1897 non-null   int64 \n",
      " 35  MAIN_CL_P       1897 non-null   int64 \n",
      " 36  MAIN_CL_M       1897 non-null   int64 \n",
      " 37  MAIN_CL_F       1897 non-null   int64 \n",
      " 38  MAIN_AL_P       1897 non-null   int64 \n",
      " 39  MAIN_AL_M       1897 non-null   int64 \n",
      " 40  MAIN_AL_F       1897 non-null   int64 \n",
      " 41  MAIN_HH_P       1897 non-null   int64 \n",
      " 42  MAIN_HH_M       1897 non-null   int64 \n",
      " 43  MAIN_HH_F       1897 non-null   int64 \n",
      " 44  MAIN_OT_P       1897 non-null   int64 \n",
      " 45  MAIN_OT_M       1897 non-null   int64 \n",
      " 46  MAIN_OT_F       1897 non-null   int64 \n",
      " 47  MARGWORK_P      1897 non-null   int64 \n",
      " 48  MARGWORK_M      1897 non-null   int64 \n",
      " 49  MARGWORK_F      1897 non-null   int64 \n",
      " 50  MARG_CL_P       1897 non-null   int64 \n",
      " 51  MARG_CL_M       1897 non-null   int64 \n",
      " 52  MARG_CL_F       1897 non-null   int64 \n",
      " 53  MARG_AL_P       1897 non-null   int64 \n",
      " 54  MARG_AL_M       1897 non-null   int64 \n",
      " 55  MARG_AL_F       1897 non-null   int64 \n",
      " 56  MARG_HH_P       1897 non-null   int64 \n",
      " 57  MARG_HH_M       1897 non-null   int64 \n",
      " 58  MARG_HH_F       1897 non-null   int64 \n",
      " 59  MARG_OT_P       1897 non-null   int64 \n",
      " 60  MARG_OT_M       1897 non-null   int64 \n",
      " 61  MARG_OT_F       1897 non-null   int64 \n",
      " 62  MARGWORK_3_6_P  1897 non-null   int64 \n",
      " 63  MARGWORK_3_6_M  1897 non-null   int64 \n",
      " 64  MARGWORK_3_6_F  1897 non-null   int64 \n",
      " 65  MARG_CL_3_6_P   1897 non-null   int64 \n",
      " 66  MARG_CL_3_6_M   1897 non-null   int64 \n",
      " 67  MARG_CL_3_6_F   1897 non-null   int64 \n",
      " 68  MARG_AL_3_6_P   1897 non-null   int64 \n",
      " 69  MARG_AL_3_6_M   1897 non-null   int64 \n",
      " 70  MARG_AL_3_6_F   1897 non-null   int64 \n",
      " 71  MARG_HH_3_6_P   1897 non-null   int64 \n",
      " 72  MARG_HH_3_6_M   1897 non-null   int64 \n",
      " 73  MARG_HH_3_6_F   1897 non-null   int64 \n",
      " 74  MARG_OT_3_6_P   1897 non-null   int64 \n",
      " 75  MARG_OT_3_6_M   1897 non-null   int64 \n",
      " 76  MARG_OT_3_6_F   1897 non-null   int64 \n",
      " 77  MARGWORK_0_3_P  1897 non-null   int64 \n",
      " 78  MARGWORK_0_3_M  1897 non-null   int64 \n",
      " 79  MARGWORK_0_3_F  1897 non-null   int64 \n",
      " 80  MARG_CL_0_3_P   1897 non-null   int64 \n",
      " 81  MARG_CL_0_3_M   1897 non-null   int64 \n",
      " 82  MARG_CL_0_3_F   1897 non-null   int64 \n",
      " 83  MARG_AL_0_3_P   1897 non-null   int64 \n",
      " 84  MARG_AL_0_3_M   1897 non-null   int64 \n",
      " 85  MARG_AL_0_3_F   1897 non-null   int64 \n",
      " 86  MARG_HH_0_3_P   1897 non-null   int64 \n",
      " 87  MARG_HH_0_3_M   1897 non-null   int64 \n",
      " 88  MARG_HH_0_3_F   1897 non-null   int64 \n",
      " 89  MARG_OT_0_3_P   1897 non-null   int64 \n",
      " 90  MARG_OT_0_3_M   1897 non-null   int64 \n",
      " 91  MARG_OT_0_3_F   1897 non-null   int64 \n",
      " 92  NON_WORK_P      1897 non-null   int64 \n",
      " 93  NON_WORK_M      1897 non-null   int64 \n",
      " 94  NON_WORK_F      1897 non-null   int64 \n",
      "dtypes: int64(91), object(4)\n",
      "memory usage: 1.4+ MB\n"
     ]
    }
   ],
   "source": [
    "# for knowing for information about column\n",
    "df.info()"
   ]
  },
  {
   "cell_type": "code",
   "execution_count": 35,
   "id": "59e7ec49",
   "metadata": {
    "ExecuteTime": {
     "end_time": "2022-09-20T11:46:20.546178Z",
     "start_time": "2022-09-20T11:46:20.532330Z"
    }
   },
   "outputs": [
    {
     "data": {
      "text/plain": [
       "State             int64\n",
       "District          int64\n",
       "DT_Name          object\n",
       "CD Block          int64\n",
       "Town/Village      int64\n",
       "                  ...  \n",
       "MARG_OT_0_3_M     int64\n",
       "MARG_OT_0_3_F     int64\n",
       "NON_WORK_P        int64\n",
       "NON_WORK_M        int64\n",
       "NON_WORK_F        int64\n",
       "Length: 95, dtype: object"
      ]
     },
     "execution_count": 35,
     "metadata": {},
     "output_type": "execute_result"
    }
   ],
   "source": [
    "# show datatypes of each columns\n",
    "df.dtypes"
   ]
  },
  {
   "cell_type": "code",
   "execution_count": 36,
   "id": "0b3b6416",
   "metadata": {
    "ExecuteTime": {
     "end_time": "2022-09-20T11:46:20.578188Z",
     "start_time": "2022-09-20T11:46:20.548173Z"
    }
   },
   "outputs": [
    {
     "data": {
      "text/plain": [
       "State               1\n",
       "District            1\n",
       "DT_Name             1\n",
       "CD Block           52\n",
       "Town/Village     1742\n",
       "                 ... \n",
       "MARG_OT_0_3_M      81\n",
       "MARG_OT_0_3_F      72\n",
       "NON_WORK_P        988\n",
       "NON_WORK_M        685\n",
       "NON_WORK_F        727\n",
       "Length: 95, dtype: int64"
      ]
     },
     "execution_count": 36,
     "metadata": {},
     "output_type": "execute_result"
    }
   ],
   "source": [
    "# finding number of unique value in each coulumn\n",
    "df.nunique()"
   ]
  },
  {
   "cell_type": "code",
   "execution_count": 37,
   "id": "3f273623",
   "metadata": {
    "ExecuteTime": {
     "end_time": "2022-09-20T11:46:20.593730Z",
     "start_time": "2022-09-20T11:46:20.580189Z"
    }
   },
   "outputs": [
    {
     "data": {
      "text/plain": [
       "State            0\n",
       "District         0\n",
       "DT_Name          0\n",
       "CD Block         0\n",
       "Town/Village     0\n",
       "                ..\n",
       "MARG_OT_0_3_M    0\n",
       "MARG_OT_0_3_F    0\n",
       "NON_WORK_P       0\n",
       "NON_WORK_M       0\n",
       "NON_WORK_F       0\n",
       "Length: 95, dtype: int64"
      ]
     },
     "execution_count": 37,
     "metadata": {},
     "output_type": "execute_result"
    }
   ],
   "source": [
    "# for claculating total  number of null values in each column\n",
    "df.isnull().sum()"
   ]
  },
  {
   "cell_type": "code",
   "execution_count": 38,
   "id": "074a146c",
   "metadata": {
    "ExecuteTime": {
     "end_time": "2022-09-20T11:46:20.609447Z",
     "start_time": "2022-09-20T11:46:20.595725Z"
    }
   },
   "outputs": [
    {
     "data": {
      "text/plain": [
       "0"
      ]
     },
     "execution_count": 38,
     "metadata": {},
     "output_type": "execute_result"
    }
   ],
   "source": [
    "# calculate total number of null values in whole  data set\n",
    "df.isnull().sum().sum()"
   ]
  },
  {
   "cell_type": "code",
   "execution_count": 39,
   "id": "1d1535da",
   "metadata": {
    "ExecuteTime": {
     "end_time": "2022-09-20T11:46:20.624675Z",
     "start_time": "2022-09-20T11:46:20.611442Z"
    }
   },
   "outputs": [
    {
     "data": {
      "text/plain": [
       "array(['Total', 'Rural', 'Urban'], dtype=object)"
      ]
     },
     "execution_count": 39,
     "metadata": {},
     "output_type": "execute_result"
    }
   ],
   "source": [
    "# check unieue value is TRU \n",
    "df.TRU.unique()"
   ]
  },
  {
   "cell_type": "code",
   "execution_count": 44,
   "id": "9f8f7f40",
   "metadata": {
    "ExecuteTime": {
     "end_time": "2022-09-20T11:53:29.454836Z",
     "start_time": "2022-09-20T11:53:29.350069Z"
    }
   },
   "outputs": [
    {
     "data": {
      "image/png": "[encoded data removed]",
      "text/plain": [
       "<Figure size 432x288 with 1 Axes>"
      ]
     },
     "metadata": {
      "needs_background": "light"
     },
     "output_type": "display_data"
    }
   ],
   "source": [
    "x=['Females','Males']\n",
    "y=[df.TOT_F.sum(),df.TOT_M.sum()]\n",
    "plt.bar(x,y)\n",
    "plt.show()"
   ]
  },
  {
   "cell_type": "code",
   "execution_count": 46,
   "id": "165c1eac",
   "metadata": {
    "ExecuteTime": {
     "end_time": "2022-09-20T11:57:08.576038Z",
     "start_time": "2022-09-20T11:57:08.495539Z"
    }
   },
   "outputs": [
    {
     "data": {
      "image/png": "[encoded data removed]",
      "text/plain": [
       "<Figure size 432x288 with 1 Axes>"
      ]
     },
     "metadata": {
      "needs_background": "light"
     },
     "output_type": "display_data"
    }
   ],
   "source": [
    "x=['Age group 0-6','Females 0-6','Males 0-6']\n",
    "y=[df.P_06.sum(),df.F_06.sum(),df.M_06.sum()]\n",
    "plt.bar(x,y)\n",
    "plt.show()"
   ]
  },
  {
   "cell_type": "markdown",
   "id": "2fb69d2f",
   "metadata": {},
   "source": [
    "<pre>Here we compare male and female in the age between 0 to 6</pre>"
   ]
  },
  {
   "cell_type": "code",
   "execution_count": 49,
   "id": "3388b1b7",
   "metadata": {
    "ExecuteTime": {
     "end_time": "2022-09-20T12:01:56.647916Z",
     "start_time": "2022-09-20T12:01:56.527089Z"
    }
   },
   "outputs": [
    {
     "data": {
      "image/png": "[encoded data removed]",
      "text/plain": [
       "<Figure size 432x288 with 1 Axes>"
      ]
     },
     "metadata": {
      "needs_background": "light"
     },
     "output_type": "display_data"
    }
   ],
   "source": [
    "x=['ST_M','ST_F','SC_M','SC_F']\n",
    "y=[df.M_ST.sum(),df.F_ST.sum(),df.M_SC.sum(),df.F_SC.sum()]\n",
    "plt.bar(x,y)\n",
    "plt.show()"
   ]
  },
  {
   "cell_type": "markdown",
   "id": "097c8bdd",
   "metadata": {},
   "source": [
    "<pre>Here we compare the population of SC and  ST cast</pre>"
   ]
  },
  {
   "cell_type": "code",
   "execution_count": 53,
   "id": "04a26fea",
   "metadata": {
    "ExecuteTime": {
     "end_time": "2022-09-20T12:07:59.782848Z",
     "start_time": "2022-09-20T12:07:59.746452Z"
    }
   },
   "outputs": [
    {
     "data": {
      "text/html": [
       "<div>\n",
       "<style scoped>\n",
       "    .dataframe tbody tr th:only-of-type {\n",
       "        vertical-align: middle;\n",
       "    }\n",
       "\n",
       "    .dataframe tbody tr th {\n",
       "        vertical-align: top;\n",
       "    }\n",
       "\n",
       "    .dataframe thead th {\n",
       "        text-align: right;\n",
       "    }\n",
       "</style>\n",
       "<table border=\"1\" class=\"dataframe\">\n",
       "  <thead>\n",
       "    <tr style=\"text-align: right;\">\n",
       "      <th></th>\n",
       "      <th>TOT_P</th>\n",
       "      <th>TOT_M</th>\n",
       "      <th>TOT_F</th>\n",
       "      <th>P_06</th>\n",
       "      <th>M_06</th>\n",
       "      <th>F_06</th>\n",
       "      <th>P_SC</th>\n",
       "      <th>M_SC</th>\n",
       "      <th>F_SC</th>\n",
       "      <th>P_ST</th>\n",
       "      <th>M_ST</th>\n",
       "      <th>F_ST</th>\n",
       "      <th>P_LIT</th>\n",
       "      <th>M_LIT</th>\n",
       "      <th>F_LIT</th>\n",
       "      <th>P_ILL</th>\n",
       "      <th>M_ILL</th>\n",
       "      <th>F_ILL</th>\n",
       "      <th>TOT_WORK_P</th>\n",
       "    </tr>\n",
       "  </thead>\n",
       "  <tbody>\n",
       "    <tr>\n",
       "      <th>0</th>\n",
       "      <td>39631</td>\n",
       "      <td>19615</td>\n",
       "      <td>20016</td>\n",
       "      <td>4347</td>\n",
       "      <td>2249</td>\n",
       "      <td>2098</td>\n",
       "      <td>6402</td>\n",
       "      <td>3108</td>\n",
       "      <td>3294</td>\n",
       "      <td>11658</td>\n",
       "      <td>5833</td>\n",
       "      <td>5825</td>\n",
       "      <td>19988</td>\n",
       "      <td>11638</td>\n",
       "      <td>8350</td>\n",
       "      <td>19643</td>\n",
       "      <td>7977</td>\n",
       "      <td>11666</td>\n",
       "      <td>22826</td>\n",
       "    </tr>\n",
       "    <tr>\n",
       "      <th>1</th>\n",
       "      <td>39631</td>\n",
       "      <td>19615</td>\n",
       "      <td>20016</td>\n",
       "      <td>4347</td>\n",
       "      <td>2249</td>\n",
       "      <td>2098</td>\n",
       "      <td>6402</td>\n",
       "      <td>3108</td>\n",
       "      <td>3294</td>\n",
       "      <td>11658</td>\n",
       "      <td>5833</td>\n",
       "      <td>5825</td>\n",
       "      <td>19988</td>\n",
       "      <td>11638</td>\n",
       "      <td>8350</td>\n",
       "      <td>19643</td>\n",
       "      <td>7977</td>\n",
       "      <td>11666</td>\n",
       "      <td>22826</td>\n",
       "    </tr>\n",
       "    <tr>\n",
       "      <th>2</th>\n",
       "      <td>0</td>\n",
       "      <td>0</td>\n",
       "      <td>0</td>\n",
       "      <td>0</td>\n",
       "      <td>0</td>\n",
       "      <td>0</td>\n",
       "      <td>0</td>\n",
       "      <td>0</td>\n",
       "      <td>0</td>\n",
       "      <td>0</td>\n",
       "      <td>0</td>\n",
       "      <td>0</td>\n",
       "      <td>0</td>\n",
       "      <td>0</td>\n",
       "      <td>0</td>\n",
       "      <td>0</td>\n",
       "      <td>0</td>\n",
       "      <td>0</td>\n",
       "      <td>0</td>\n",
       "    </tr>\n",
       "    <tr>\n",
       "      <th>3</th>\n",
       "      <td>2232</td>\n",
       "      <td>1104</td>\n",
       "      <td>1128</td>\n",
       "      <td>252</td>\n",
       "      <td>118</td>\n",
       "      <td>134</td>\n",
       "      <td>258</td>\n",
       "      <td>118</td>\n",
       "      <td>140</td>\n",
       "      <td>795</td>\n",
       "      <td>408</td>\n",
       "      <td>387</td>\n",
       "      <td>1168</td>\n",
       "      <td>676</td>\n",
       "      <td>492</td>\n",
       "      <td>1064</td>\n",
       "      <td>428</td>\n",
       "      <td>636</td>\n",
       "      <td>1379</td>\n",
       "    </tr>\n",
       "    <tr>\n",
       "      <th>4</th>\n",
       "      <td>509</td>\n",
       "      <td>254</td>\n",
       "      <td>255</td>\n",
       "      <td>73</td>\n",
       "      <td>32</td>\n",
       "      <td>41</td>\n",
       "      <td>18</td>\n",
       "      <td>7</td>\n",
       "      <td>11</td>\n",
       "      <td>117</td>\n",
       "      <td>57</td>\n",
       "      <td>60</td>\n",
       "      <td>249</td>\n",
       "      <td>144</td>\n",
       "      <td>105</td>\n",
       "      <td>260</td>\n",
       "      <td>110</td>\n",
       "      <td>150</td>\n",
       "      <td>375</td>\n",
       "    </tr>\n",
       "    <tr>\n",
       "      <th>...</th>\n",
       "      <td>...</td>\n",
       "      <td>...</td>\n",
       "      <td>...</td>\n",
       "      <td>...</td>\n",
       "      <td>...</td>\n",
       "      <td>...</td>\n",
       "      <td>...</td>\n",
       "      <td>...</td>\n",
       "      <td>...</td>\n",
       "      <td>...</td>\n",
       "      <td>...</td>\n",
       "      <td>...</td>\n",
       "      <td>...</td>\n",
       "      <td>...</td>\n",
       "      <td>...</td>\n",
       "      <td>...</td>\n",
       "      <td>...</td>\n",
       "      <td>...</td>\n",
       "      <td>...</td>\n",
       "    </tr>\n",
       "    <tr>\n",
       "      <th>1892</th>\n",
       "      <td>521</td>\n",
       "      <td>295</td>\n",
       "      <td>226</td>\n",
       "      <td>63</td>\n",
       "      <td>36</td>\n",
       "      <td>27</td>\n",
       "      <td>362</td>\n",
       "      <td>199</td>\n",
       "      <td>163</td>\n",
       "      <td>0</td>\n",
       "      <td>0</td>\n",
       "      <td>0</td>\n",
       "      <td>223</td>\n",
       "      <td>120</td>\n",
       "      <td>103</td>\n",
       "      <td>298</td>\n",
       "      <td>175</td>\n",
       "      <td>123</td>\n",
       "      <td>249</td>\n",
       "    </tr>\n",
       "    <tr>\n",
       "      <th>1893</th>\n",
       "      <td>1613</td>\n",
       "      <td>807</td>\n",
       "      <td>806</td>\n",
       "      <td>144</td>\n",
       "      <td>78</td>\n",
       "      <td>66</td>\n",
       "      <td>533</td>\n",
       "      <td>276</td>\n",
       "      <td>257</td>\n",
       "      <td>112</td>\n",
       "      <td>63</td>\n",
       "      <td>49</td>\n",
       "      <td>725</td>\n",
       "      <td>416</td>\n",
       "      <td>309</td>\n",
       "      <td>888</td>\n",
       "      <td>391</td>\n",
       "      <td>497</td>\n",
       "      <td>929</td>\n",
       "    </tr>\n",
       "    <tr>\n",
       "      <th>1894</th>\n",
       "      <td>1046</td>\n",
       "      <td>513</td>\n",
       "      <td>533</td>\n",
       "      <td>102</td>\n",
       "      <td>56</td>\n",
       "      <td>46</td>\n",
       "      <td>298</td>\n",
       "      <td>145</td>\n",
       "      <td>153</td>\n",
       "      <td>51</td>\n",
       "      <td>25</td>\n",
       "      <td>26</td>\n",
       "      <td>483</td>\n",
       "      <td>290</td>\n",
       "      <td>193</td>\n",
       "      <td>563</td>\n",
       "      <td>223</td>\n",
       "      <td>340</td>\n",
       "      <td>680</td>\n",
       "    </tr>\n",
       "    <tr>\n",
       "      <th>1895</th>\n",
       "      <td>506</td>\n",
       "      <td>238</td>\n",
       "      <td>268</td>\n",
       "      <td>51</td>\n",
       "      <td>24</td>\n",
       "      <td>27</td>\n",
       "      <td>199</td>\n",
       "      <td>90</td>\n",
       "      <td>109</td>\n",
       "      <td>0</td>\n",
       "      <td>0</td>\n",
       "      <td>0</td>\n",
       "      <td>182</td>\n",
       "      <td>100</td>\n",
       "      <td>82</td>\n",
       "      <td>324</td>\n",
       "      <td>138</td>\n",
       "      <td>186</td>\n",
       "      <td>207</td>\n",
       "    </tr>\n",
       "    <tr>\n",
       "      <th>1896</th>\n",
       "      <td>23579</td>\n",
       "      <td>11809</td>\n",
       "      <td>11770</td>\n",
       "      <td>2344</td>\n",
       "      <td>1243</td>\n",
       "      <td>1101</td>\n",
       "      <td>3764</td>\n",
       "      <td>1852</td>\n",
       "      <td>1912</td>\n",
       "      <td>189</td>\n",
       "      <td>104</td>\n",
       "      <td>85</td>\n",
       "      <td>15301</td>\n",
       "      <td>8554</td>\n",
       "      <td>6747</td>\n",
       "      <td>8278</td>\n",
       "      <td>3255</td>\n",
       "      <td>5023</td>\n",
       "      <td>8827</td>\n",
       "    </tr>\n",
       "  </tbody>\n",
       "</table>\n",
       "<p>1897 rows × 19 columns</p>\n",
       "</div>"
      ],
      "text/plain": [
       "      TOT_P  TOT_M  TOT_F  P_06  M_06  F_06  P_SC  M_SC  F_SC   P_ST  M_ST  \\\n",
       "0     39631  19615  20016  4347  2249  2098  6402  3108  3294  11658  5833   \n",
       "1     39631  19615  20016  4347  2249  2098  6402  3108  3294  11658  5833   \n",
       "2         0      0      0     0     0     0     0     0     0      0     0   \n",
       "3      2232   1104   1128   252   118   134   258   118   140    795   408   \n",
       "4       509    254    255    73    32    41    18     7    11    117    57   \n",
       "...     ...    ...    ...   ...   ...   ...   ...   ...   ...    ...   ...   \n",
       "1892    521    295    226    63    36    27   362   199   163      0     0   \n",
       "1893   1613    807    806   144    78    66   533   276   257    112    63   \n",
       "1894   1046    513    533   102    56    46   298   145   153     51    25   \n",
       "1895    506    238    268    51    24    27   199    90   109      0     0   \n",
       "1896  23579  11809  11770  2344  1243  1101  3764  1852  1912    189   104   \n",
       "\n",
       "      F_ST  P_LIT  M_LIT  F_LIT  P_ILL  M_ILL  F_ILL  TOT_WORK_P  \n",
       "0     5825  19988  11638   8350  19643   7977  11666       22826  \n",
       "1     5825  19988  11638   8350  19643   7977  11666       22826  \n",
       "2        0      0      0      0      0      0      0           0  \n",
       "3      387   1168    676    492   1064    428    636        1379  \n",
       "4       60    249    144    105    260    110    150         375  \n",
       "...    ...    ...    ...    ...    ...    ...    ...         ...  \n",
       "1892     0    223    120    103    298    175    123         249  \n",
       "1893    49    725    416    309    888    391    497         929  \n",
       "1894    26    483    290    193    563    223    340         680  \n",
       "1895     0    182    100     82    324    138    186         207  \n",
       "1896    85  15301   8554   6747   8278   3255   5023        8827  \n",
       "\n",
       "[1897 rows x 19 columns]"
      ]
     },
     "execution_count": 53,
     "metadata": {},
     "output_type": "execute_result"
    }
   ],
   "source": [
    "df.iloc[::,11:30]"
   ]
  },
  {
   "cell_type": "code",
   "execution_count": 56,
   "id": "38881f53",
   "metadata": {
    "ExecuteTime": {
     "end_time": "2022-09-20T17:43:09.934212Z",
     "start_time": "2022-09-20T17:43:09.430859Z"
    }
   },
   "outputs": [
    {
     "data": {
      "text/plain": [
       "<AxesSubplot:xlabel='CD Block', ylabel='TOT_P'>"
      ]
     },
     "execution_count": 56,
     "metadata": {},
     "output_type": "execute_result"
    },
    {
     "data": {
      "image/png": "[encoded data removed]",
      "text/plain": [
       "<Figure size 432x288 with 1 Axes>"
      ]
     },
     "metadata": {
      "needs_background": "light"
     },
     "output_type": "display_data"
    }
   ],
   "source": [
    "# data = sns.load_dataset(data)\n",
    "\n",
    "sns.scatterplot(x = 'CD Block', y =\"TOT_P\", data = pd.read_csv(\"AdilabadCensus.csv\"))"
   ]
  },
  {
   "cell_type": "code",
   "execution_count": 57,
   "id": "9e41a796",
   "metadata": {
    "ExecuteTime": {
     "end_time": "2022-09-20T17:43:23.080380Z",
     "start_time": "2022-09-20T17:43:22.840166Z"
    }
   },
   "outputs": [
    {
     "data": {
      "text/plain": [
       "<AxesSubplot:xlabel='CD Block', ylabel='Count'>"
      ]
     },
     "execution_count": 57,
     "metadata": {},
     "output_type": "execute_result"
    },
    {
     "data": {
      "image/png": "[encoded data removed]",
      "text/plain": [
       "<Figure size 432x288 with 1 Axes>"
      ]
     },
     "metadata": {
      "needs_background": "light"
     },
     "output_type": "display_data"
    }
   ],
   "source": [
    "data = df\n",
    "sns.histplot(data = data, x = \"CD Block\")"
   ]
  },
  {
   "cell_type": "code",
   "execution_count": 58,
   "id": "d51a633f",
   "metadata": {
    "ExecuteTime": {
     "end_time": "2022-09-20T17:43:38.617647Z",
     "start_time": "2022-09-20T17:43:38.421254Z"
    }
   },
   "outputs": [
    {
     "data": {
      "text/plain": [
       "<AxesSubplot:xlabel='Name', ylabel='TOT_P'>"
      ]
     },
     "execution_count": 58,
     "metadata": {},
     "output_type": "execute_result"
    },
    {
     "data": {
      "image/png": "[encoded data removed]",
      "text/plain": [
       "<Figure size 432x288 with 1 Axes>"
      ]
     },
     "metadata": {
      "needs_background": "light"
     },
     "output_type": "display_data"
    }
   ],
   "source": [
    "data = df.loc[3:9, [\"Name\", \"TOT_P\", \"TOT_M\", \"TOT_F\"]]\n",
    "\n",
    "sns.barplot(data = data, x=\"Name\", y=\"TOT_P\")"
   ]
  },
  {
   "cell_type": "code",
   "execution_count": 59,
   "id": "f4eb8010",
   "metadata": {
    "ExecuteTime": {
     "end_time": "2022-09-20T17:44:13.016519Z",
     "start_time": "2022-09-20T17:44:09.781723Z"
    }
   },
   "outputs": [
    {
     "data": {
      "text/plain": [
       "<AxesSubplot:xlabel='CD Block', ylabel='TOT_P'>"
      ]
     },
     "execution_count": 59,
     "metadata": {},
     "output_type": "execute_result"
    },
    {
     "data": {
      "image/png": "[encoded data removed]",
      "text/plain": [
       "<Figure size 432x288 with 1 Axes>"
      ]
     },
     "metadata": {
      "needs_background": "light"
     },
     "output_type": "display_data"
    }
   ],
   "source": [
    "sns.lineplot(data = df, x = \"CD Block\", y = \"TOT_P\")\n",
    "sns.lineplot(data = df, x = \"CD Block\", y = \"TOT_M\")\n",
    "sns.lineplot(data = df, x = \"CD Block\", y = \"TOT_F\")"
   ]
  },
  {
   "cell_type": "code",
   "execution_count": null,
   "id": "fa9fcae9",
   "metadata": {},
   "outputs": [],
   "source": []
  }
 ],
 "metadata": {
  "kernelspec": {
   "display_name": "Python 3 (ipykernel)",
   "language": "python",
   "name": "python3"
  },
  "language_info": {
   "codemirror_mode": {
    "name": "ipython",
    "version": 3
   },
   "file_extension": ".py",
   "mimetype": "text/x-python",
   "name": "python",
   "nbconvert_exporter": "python",
   "pygments_lexer": "ipython3",
   "version": "3.9.12"
  }
 },
 "nbformat": 4,
 "nbformat_minor": 5
}
