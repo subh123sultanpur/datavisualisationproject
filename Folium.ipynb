{
  "nbformat": 4,
  "nbformat_minor": 0,
  "metadata": {
    "colab": {
      "provenance": []
    },
    "kernelspec": {
      "name": "python3",
      "display_name": "Python 3"
    },
    "language_info": {
      "name": "python"
    }
  },
  "cells": [
    {
      "cell_type": "code",
      "execution_count": null,
      "metadata": {
        "id": "ZnQFA0XkzAn3"
      },
      "outputs": [],
      "source": [
        "# import folium package\n",
        "import folium\n",
        "\n",
        "# Map method of folium return Map object\n",
        "\n",
        "# Here we pass coordinates of Gfg\n",
        "# and starting Zoom level = 12\n",
        "my_map1 = folium.Map(location = [28.5011226, 77.4099794],\n",
        "\t\t\t\t\t\t\t\t\t\tzoom_start = 12 )\n",
        "\n",
        "# save method of Map object will create a map\n",
        "my_map1.save(\" my_map1.html \" )\n"
      ]
    },
    {
      "cell_type": "code",
      "source": [
        "# import folium package\n",
        "import folium\n",
        "\n",
        "my_map2 = folium.Map(location = [28.5011226, 77.4099794],\n",
        "\t\t\t\t\t\t\t\t\t\tzoom_start = 12)\n",
        "\n",
        "# CircleMarker with radius\n",
        "folium.CircleMarker(location = [28.5011226, 77.4099794],\n",
        "\t\t\t\t\tradius = 50, popup = ' FRI ').add_to(my_map2)\n",
        "\n",
        "# save as html\n",
        "my_map2.save(\" my_map2.html \")\n"
      ],
      "metadata": {
        "id": "XvLR_PI1zDto"
      },
      "execution_count": null,
      "outputs": []
    },
    {
      "cell_type": "code",
      "source": [
        "#Add a simple_marker for parachute style marker with pop-up text. \n",
        "# import folium package\n",
        "import folium\n",
        "\n",
        "my_map3 = folium.Map(location = [28.5011226, 77.4099794],\n",
        "\t\t\t\t\t\t\t\t\t\tzoom_start = 15)\n",
        "\n",
        "# Pass a string in popup parameter\n",
        "folium.Marker([28.5011226, 77.4099794],\n",
        "\t\t\tpopup = ' GLA ').add_to(my_map3)\n",
        "\n",
        "\n",
        "my_map3.save(\" my_map3.html \")\n"
      ],
      "metadata": {
        "id": "A3XnuOSxzG_I"
      },
      "execution_count": null,
      "outputs": []
    },
    {
      "cell_type": "code",
      "source": [
        "## import folium package\n",
        "import folium\n",
        "\n",
        "my_map4 = folium.Map(location = [28.5011226, 77.4099794],\n",
        "\t\t\t\t\t\t\t\t\t\tzoom_start = 12)\n",
        "\n",
        "folium.Marker([28.704059, 77.102490],\n",
        "\t\t\tpopup = 'Delhi').add_to(my_map4)\n",
        "\n",
        "folium.Marker([28.5011226, 77.4099794],\n",
        "\t\t\tpopup = 'GLA').add_to(my_map4)\n",
        "\n",
        "# Add a line to the map by using line method .\n",
        "# it connect both coordinates by the line\n",
        "# line_opacity implies intensity of the line\n",
        "\n",
        "folium.PolyLine(locations = [(28.704059, 77.102490), (28.5011226, 77.4099794)],\n",
        "\t\t\t\tline_opacity = 0.5).add_to(my_map4)\n",
        "\n",
        "my_map4.save(\"my_map4.html\")\n",
        "\n"
      ],
      "metadata": {
        "id": "t_PPdZ7yzdA_"
      },
      "execution_count": null,
      "outputs": []
    },
    {
      "cell_type": "markdown",
      "source": [
        "Layers and tiles in folium map"
      ],
      "metadata": {
        "id": "C_397_3H0IM2"
      }
    },
    {
      "cell_type": "code",
      "source": [
        "fig2=Figure(width=550,height=350)\n",
        "m2=folium.Map(location=[28.644800, 77.216721])\n",
        "fig2.add_child(m2)\n",
        "folium.TileLayer('Stamen Terrain').add_to(m2)\n",
        "folium.TileLayer('Stamen Toner').add_to(m2)\n",
        "folium.TileLayer('Stamen Water Color').add_to(m2)\n",
        "folium.TileLayer('cartodbpositron').add_to(m2)\n",
        "folium.TileLayer('cartodbdark_matter').add_to(m2)\n",
        "folium.LayerControl().add_to(m2)\n",
        "m2"
      ],
      "metadata": {
        "id": "NRtxRqLc0Kyj"
      },
      "execution_count": null,
      "outputs": []
    }
  ]
}